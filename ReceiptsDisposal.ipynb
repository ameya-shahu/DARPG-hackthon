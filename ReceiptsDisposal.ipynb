{
 "cells": [
  {
   "cell_type": "code",
   "execution_count": 1,
   "metadata": {},
   "outputs": [],
   "source": [
    "#importing the necesssary libraries\n",
    "import pandas as pd\n",
    "import numpy as np\n",
    "import matplotlib.pyplot as plt\n",
    "import seaborn as sns\n",
    "%matplotlib inline"
   ]
  },
  {
   "cell_type": "markdown",
   "metadata": {},
   "source": [
    "The analysis of the dataset - \"DataSet-MonthwiseReceiptsDisposal_1\" will be carried out in this notebook."
   ]
  },
  {
   "cell_type": "code",
   "execution_count": 3,
   "metadata": {},
   "outputs": [],
   "source": [
    "#loading the dataset(csv file) into a dataframe\n",
    "receipts_disposal = pd.read_csv(\"E:\\\\The Institution\\\\DARPG Hackathon\\\\DataSet-MonthwiseReceiptsDisposal_1.csv\")"
   ]
  },
  {
   "cell_type": "code",
   "execution_count": 4,
   "metadata": {},
   "outputs": [
    {
     "data": {
      "text/html": [
       "<div>\n",
       "<style scoped>\n",
       "    .dataframe tbody tr th:only-of-type {\n",
       "        vertical-align: middle;\n",
       "    }\n",
       "\n",
       "    .dataframe tbody tr th {\n",
       "        vertical-align: top;\n",
       "    }\n",
       "\n",
       "    .dataframe thead th {\n",
       "        text-align: right;\n",
       "    }\n",
       "</style>\n",
       "<table border=\"1\" class=\"dataframe\">\n",
       "  <thead>\n",
       "    <tr style=\"text-align: right;\">\n",
       "      <th></th>\n",
       "      <th>org_name</th>\n",
       "      <th>Year</th>\n",
       "      <th>Month</th>\n",
       "      <th>Recetpts</th>\n",
       "      <th>Disposals</th>\n",
       "    </tr>\n",
       "  </thead>\n",
       "  <tbody>\n",
       "    <tr>\n",
       "      <td>0</td>\n",
       "      <td>Central Board of Direct Taxes (Income Tax)</td>\n",
       "      <td>2016</td>\n",
       "      <td>1</td>\n",
       "      <td>1600</td>\n",
       "      <td>49</td>\n",
       "    </tr>\n",
       "    <tr>\n",
       "      <td>1</td>\n",
       "      <td>Central Board of Direct Taxes (Income Tax)</td>\n",
       "      <td>2016</td>\n",
       "      <td>2</td>\n",
       "      <td>2106</td>\n",
       "      <td>207</td>\n",
       "    </tr>\n",
       "    <tr>\n",
       "      <td>2</td>\n",
       "      <td>Central Board of Direct Taxes (Income Tax)</td>\n",
       "      <td>2016</td>\n",
       "      <td>3</td>\n",
       "      <td>2465</td>\n",
       "      <td>2702</td>\n",
       "    </tr>\n",
       "    <tr>\n",
       "      <td>3</td>\n",
       "      <td>Central Board of Direct Taxes (Income Tax)</td>\n",
       "      <td>2016</td>\n",
       "      <td>4</td>\n",
       "      <td>1912</td>\n",
       "      <td>1320</td>\n",
       "    </tr>\n",
       "    <tr>\n",
       "      <td>4</td>\n",
       "      <td>Central Board of Direct Taxes (Income Tax)</td>\n",
       "      <td>2016</td>\n",
       "      <td>5</td>\n",
       "      <td>2797</td>\n",
       "      <td>1588</td>\n",
       "    </tr>\n",
       "  </tbody>\n",
       "</table>\n",
       "</div>"
      ],
      "text/plain": [
       "                                     org_name  Year  Month  Recetpts  \\\n",
       "0  Central Board of Direct Taxes (Income Tax)  2016      1      1600   \n",
       "1  Central Board of Direct Taxes (Income Tax)  2016      2      2106   \n",
       "2  Central Board of Direct Taxes (Income Tax)  2016      3      2465   \n",
       "3  Central Board of Direct Taxes (Income Tax)  2016      4      1912   \n",
       "4  Central Board of Direct Taxes (Income Tax)  2016      5      2797   \n",
       "\n",
       "   Disposals  \n",
       "0         49  \n",
       "1        207  \n",
       "2       2702  \n",
       "3       1320  \n",
       "4       1588  "
      ]
     },
     "execution_count": 4,
     "metadata": {},
     "output_type": "execute_result"
    }
   ],
   "source": [
    "#studying the data using the first five observations\n",
    "receipts_disposal.head()"
   ]
  },
  {
   "cell_type": "code",
   "execution_count": 6,
   "metadata": {},
   "outputs": [
    {
     "data": {
      "text/plain": [
       "(5567, 5)"
      ]
     },
     "execution_count": 6,
     "metadata": {},
     "output_type": "execute_result"
    }
   ],
   "source": [
    "#finding out the total number of rows and columns in the dataset\n",
    "receipts_disposal.shape"
   ]
  },
  {
   "cell_type": "code",
   "execution_count": 7,
   "metadata": {},
   "outputs": [],
   "source": [
    "#changing a visible error in the column header\n",
    "receipts_disposal = receipts_disposal.rename(columns = {\"Recetpts\":\"Receipts\"})"
   ]
  },
  {
   "cell_type": "code",
   "execution_count": 8,
   "metadata": {},
   "outputs": [
    {
     "name": "stdout",
     "output_type": "stream",
     "text": [
      "<class 'pandas.core.frame.DataFrame'>\n",
      "RangeIndex: 5567 entries, 0 to 5566\n",
      "Data columns (total 5 columns):\n",
      "org_name     5567 non-null object\n",
      "Year         5567 non-null int64\n",
      "Month        5567 non-null int64\n",
      "Receipts     5567 non-null int64\n",
      "Disposals    5567 non-null int64\n",
      "dtypes: int64(4), object(1)\n",
      "memory usage: 217.6+ KB\n"
     ]
    }
   ],
   "source": [
    "#inspecting the data closely for null values and datatypes\n",
    "receipts_disposal.info()"
   ]
  },
  {
   "cell_type": "markdown",
   "metadata": {},
   "source": [
    "The dataset does not contain any missing values. All columns except \"org_name\" contain integer type values. "
   ]
  },
  {
   "cell_type": "code",
   "execution_count": 9,
   "metadata": {},
   "outputs": [
    {
     "data": {
      "text/html": [
       "<div>\n",
       "<style scoped>\n",
       "    .dataframe tbody tr th:only-of-type {\n",
       "        vertical-align: middle;\n",
       "    }\n",
       "\n",
       "    .dataframe tbody tr th {\n",
       "        vertical-align: top;\n",
       "    }\n",
       "\n",
       "    .dataframe thead th {\n",
       "        text-align: right;\n",
       "    }\n",
       "</style>\n",
       "<table border=\"1\" class=\"dataframe\">\n",
       "  <thead>\n",
       "    <tr style=\"text-align: right;\">\n",
       "      <th></th>\n",
       "      <th>Year</th>\n",
       "      <th>Month</th>\n",
       "      <th>Receipts</th>\n",
       "      <th>Disposals</th>\n",
       "    </tr>\n",
       "  </thead>\n",
       "  <tbody>\n",
       "    <tr>\n",
       "      <td>count</td>\n",
       "      <td>5567.000000</td>\n",
       "      <td>5567.000000</td>\n",
       "      <td>5567.000000</td>\n",
       "      <td>5567.000000</td>\n",
       "    </tr>\n",
       "    <tr>\n",
       "      <td>mean</td>\n",
       "      <td>2017.489851</td>\n",
       "      <td>6.391054</td>\n",
       "      <td>837.197773</td>\n",
       "      <td>688.464703</td>\n",
       "    </tr>\n",
       "    <tr>\n",
       "      <td>std</td>\n",
       "      <td>1.102636</td>\n",
       "      <td>3.377380</td>\n",
       "      <td>1631.776291</td>\n",
       "      <td>1591.735766</td>\n",
       "    </tr>\n",
       "    <tr>\n",
       "      <td>min</td>\n",
       "      <td>2016.000000</td>\n",
       "      <td>1.000000</td>\n",
       "      <td>1.000000</td>\n",
       "      <td>1.000000</td>\n",
       "    </tr>\n",
       "    <tr>\n",
       "      <td>25%</td>\n",
       "      <td>2017.000000</td>\n",
       "      <td>3.000000</td>\n",
       "      <td>82.000000</td>\n",
       "      <td>48.000000</td>\n",
       "    </tr>\n",
       "    <tr>\n",
       "      <td>50%</td>\n",
       "      <td>2017.000000</td>\n",
       "      <td>6.000000</td>\n",
       "      <td>264.000000</td>\n",
       "      <td>160.000000</td>\n",
       "    </tr>\n",
       "    <tr>\n",
       "      <td>75%</td>\n",
       "      <td>2018.000000</td>\n",
       "      <td>9.000000</td>\n",
       "      <td>888.000000</td>\n",
       "      <td>606.500000</td>\n",
       "    </tr>\n",
       "    <tr>\n",
       "      <td>max</td>\n",
       "      <td>2019.000000</td>\n",
       "      <td>12.000000</td>\n",
       "      <td>24977.000000</td>\n",
       "      <td>25005.000000</td>\n",
       "    </tr>\n",
       "  </tbody>\n",
       "</table>\n",
       "</div>"
      ],
      "text/plain": [
       "              Year        Month      Receipts     Disposals\n",
       "count  5567.000000  5567.000000   5567.000000   5567.000000\n",
       "mean   2017.489851     6.391054    837.197773    688.464703\n",
       "std       1.102636     3.377380   1631.776291   1591.735766\n",
       "min    2016.000000     1.000000      1.000000      1.000000\n",
       "25%    2017.000000     3.000000     82.000000     48.000000\n",
       "50%    2017.000000     6.000000    264.000000    160.000000\n",
       "75%    2018.000000     9.000000    888.000000    606.500000\n",
       "max    2019.000000    12.000000  24977.000000  25005.000000"
      ]
     },
     "execution_count": 9,
     "metadata": {},
     "output_type": "execute_result"
    }
   ],
   "source": [
    "#finding summary statistics\n",
    "receipts_disposal.describe()"
   ]
  },
  {
   "cell_type": "markdown",
   "metadata": {},
   "source": [
    "1.) The mean values of the columns \"Receipts\" and \"Disposals\" are much lesser than their respective median values(50%).\n",
    "2.) There is a large difference between the 75% values and max values of \"Receipts\" and \"Disposals\" suggesting the presence of some very high values\n",
    "3.) The range of values for \"Receipts\" is 1 to 24977 and \"Disposals\" is 1 to 25005 "
   ]
  },
  {
   "cell_type": "markdown",
   "metadata": {},
   "source": [
    "As per the information provided, the receipts and disposals have been recorded for a period of 47 months (January 2016 - November 2019)"
   ]
  },
  {
   "cell_type": "code",
   "execution_count": 11,
   "metadata": {},
   "outputs": [
    {
     "data": {
      "text/plain": [
       "Department of Land Resources               47\n",
       "Department of Rural Development            47\n",
       "Government of Assam                        47\n",
       "Ministry of Women and Child Development    47\n",
       "Department of Personnel and Training       47\n",
       "                                           ..\n",
       "Committee on Petitions Rajya Sabha          7\n",
       "Department of Fisheries                     3\n",
       "National Human Rights Commission            2\n",
       "National Commission for Scheduled Caste     1\n",
       "Investment Grievance Redress Cell           1\n",
       "Name: org_name, Length: 129, dtype: int64"
      ]
     },
     "execution_count": 11,
     "metadata": {},
     "output_type": "execute_result"
    }
   ],
   "source": [
    "#Inspecting the number of unique values/entries in \"org_name\" column\n",
    "receipts_disposal[\"org_name\"].value_counts()"
   ]
  },
  {
   "cell_type": "markdown",
   "metadata": {},
   "source": [
    "There are 129 different departments but not all of them have a complete record of 47 months"
   ]
  },
  {
   "cell_type": "code",
   "execution_count": 15,
   "metadata": {},
   "outputs": [
    {
     "name": "stdout",
     "output_type": "stream",
     "text": [
      "76 organizations show a complete record of 47 months and they are as below:\n"
     ]
    },
    {
     "data": {
      "text/plain": [
       "['Department of Land Resources',\n",
       " 'Department of Rural Development',\n",
       " 'Government of Assam',\n",
       " 'Ministry of Women and Child Development',\n",
       " 'Department of Personnel and Training',\n",
       " 'Government of Uttar Pradesh',\n",
       " 'Department of School Education and Literacy',\n",
       " 'Government of Bihar',\n",
       " 'Ministry of Information and Broadcasting',\n",
       " 'Government of Tamil Nadu',\n",
       " 'Department of Posts',\n",
       " 'Ministry of Steel',\n",
       " 'Department of Atomic Energy',\n",
       " 'Department of Defence Finance',\n",
       " 'Department of Youth Affairs',\n",
       " 'Government of Kerala',\n",
       " 'Government of Jharkhand',\n",
       " 'Department of Food and Public Distribution',\n",
       " 'Department of Financial Services (Insurance Division)',\n",
       " 'Ministry of External Affairs',\n",
       " 'Department of Empowerment of Persons with Disabilities',\n",
       " 'Department of Economic Affairs ACC Division',\n",
       " 'Ministry of Power',\n",
       " 'Central Board of Indirect Taxes and Customs',\n",
       " 'Department of Telecommunications',\n",
       " 'Department of Commerce',\n",
       " 'Ministry  of Coal',\n",
       " 'Department of Social Justice and Empowerment',\n",
       " 'Government of Maharashtra',\n",
       " 'Ministry of Labour and Employment',\n",
       " 'Department of Consumer Affairs',\n",
       " 'Department of Health Research',\n",
       " 'Ministry of Electronics & Information Technology',\n",
       " 'Ministry of Tourism',\n",
       " 'Department of Official Language',\n",
       " 'Department of Revenue',\n",
       " 'Ministry of Micro Small and Medium  Enterprises',\n",
       " 'Ministry of Corporate Affairs',\n",
       " 'Government of Gujarat',\n",
       " 'Central Board of Direct Taxes (Income Tax)',\n",
       " 'Securities and Exchange Board of India',\n",
       " 'Government of Karnataka',\n",
       " 'O/o the Comptroller & Auditor General of India',\n",
       " 'Ministry of Petroleum and Natural Gas',\n",
       " 'Government of Madhya Pradesh',\n",
       " 'Department of Investment & Public Asset Management',\n",
       " 'Department of Science and Technology',\n",
       " 'Government of Chattisgarh',\n",
       " 'Ministry of Skill Development and Entrepreneurship',\n",
       " 'Department of Expenditure',\n",
       " 'Unique Identification Authority of India',\n",
       " 'Department of Defence',\n",
       " 'Government of NCT of Delhi',\n",
       " 'Department of Higher Education',\n",
       " 'Department of Scientific & Industrial Research',\n",
       " 'Ministry of Water Resources, River Development & Ganga Rejuv',\n",
       " 'Ministry of Shipping',\n",
       " 'Department of Justice',\n",
       " 'Ministry of Civil Aviation',\n",
       " 'Department of Heavy Industry',\n",
       " 'Ministry of Drinking Water and Sanitation',\n",
       " 'Department of Financial Services (Banking Division)',\n",
       " 'Ministry of Road Transport and Highways',\n",
       " 'Legislative Department',\n",
       " 'Ministry of Railways ( Railway Board)',\n",
       " 'Department of Defence Production',\n",
       " 'Department of Industrial Policy & Promotion',\n",
       " 'Ministry of Ayush',\n",
       " 'Ministry of Home Affairs',\n",
       " 'Ministry of Culture',\n",
       " 'Ministry of Housing and Urban Affairs',\n",
       " 'Ministry of Tribal Affairs',\n",
       " 'Ministry of Environment, Forest and Climate Change',\n",
       " 'Department of Ex Servicemen Welfare',\n",
       " 'Department of Health & Family Welfare',\n",
       " 'Department of Agriculture, Cooperation and Farmers Welfare']"
      ]
     },
     "execution_count": 15,
     "metadata": {},
     "output_type": "execute_result"
    }
   ],
   "source": [
    "#extracting organizations having record of 47 months\n",
    "org_counts = receipts_disposal['org_name'].value_counts()\n",
    "org_list = org_counts[org_counts == 47].index.tolist()\n",
    "\n",
    "print(len(org_list), \" out of 129 organizations show a complete record of 47 months and they are as below:\")\n",
    "org_list"
   ]
  },
  {
   "cell_type": "markdown",
   "metadata": {},
   "source": [
    "It will be better to consider only these 76 organizations for further analyses. It will also help maintain consistent & complete data entries for forecasting and prediction"
   ]
  },
  {
   "cell_type": "code",
   "execution_count": 18,
   "metadata": {},
   "outputs": [
    {
     "name": "stdout",
     "output_type": "stream",
     "text": [
      "(3572, 5)\n"
     ]
    }
   ],
   "source": [
    "#eliminating columns from the dataframe that are no longer required\n",
    "receipts_disposal = receipts_disposal[receipts_disposal['org_name'].isin(org_list)]\n",
    "print(receipts_disposal.shape)"
   ]
  },
  {
   "cell_type": "markdown",
   "metadata": {},
   "source": [
    "So, 3572 out of 5576 data entries are being considered for further analysis. "
   ]
  },
  {
   "cell_type": "markdown",
   "metadata": {},
   "source": [
    "The columns of \"Year\" and \"Month\" can be combined together into a datetime column for better understanding and representation."
   ]
  },
  {
   "cell_type": "code",
   "execution_count": 19,
   "metadata": {},
   "outputs": [],
   "source": [
    "#combining \"Year\" and \"Month\" into a single column\n",
    "receipts_disposal[\"Date\"] = pd.to_datetime(receipts_disposal[\"Year\"].astype(str) + \"-\" + receipts_disposal[\"Month\"].astype(str), format = \"%Y-%d\")\n",
    "receipts_disposal = receipts_disposal.drop([\"Year\", \"Month\"],axis=1)"
   ]
  },
  {
   "cell_type": "code",
   "execution_count": 21,
   "metadata": {},
   "outputs": [
    {
     "name": "stdout",
     "output_type": "stream",
     "text": [
      "Now the dataframe looks like:\n"
     ]
    },
    {
     "data": {
      "text/html": [
       "<div>\n",
       "<style scoped>\n",
       "    .dataframe tbody tr th:only-of-type {\n",
       "        vertical-align: middle;\n",
       "    }\n",
       "\n",
       "    .dataframe tbody tr th {\n",
       "        vertical-align: top;\n",
       "    }\n",
       "\n",
       "    .dataframe thead th {\n",
       "        text-align: right;\n",
       "    }\n",
       "</style>\n",
       "<table border=\"1\" class=\"dataframe\">\n",
       "  <thead>\n",
       "    <tr style=\"text-align: right;\">\n",
       "      <th></th>\n",
       "      <th>org_name</th>\n",
       "      <th>Receipts</th>\n",
       "      <th>Disposals</th>\n",
       "      <th>Date</th>\n",
       "    </tr>\n",
       "  </thead>\n",
       "  <tbody>\n",
       "    <tr>\n",
       "      <td>0</td>\n",
       "      <td>Central Board of Direct Taxes (Income Tax)</td>\n",
       "      <td>1600</td>\n",
       "      <td>49</td>\n",
       "      <td>2016-01-01</td>\n",
       "    </tr>\n",
       "    <tr>\n",
       "      <td>1</td>\n",
       "      <td>Central Board of Direct Taxes (Income Tax)</td>\n",
       "      <td>2106</td>\n",
       "      <td>207</td>\n",
       "      <td>2016-01-02</td>\n",
       "    </tr>\n",
       "    <tr>\n",
       "      <td>2</td>\n",
       "      <td>Central Board of Direct Taxes (Income Tax)</td>\n",
       "      <td>2465</td>\n",
       "      <td>2702</td>\n",
       "      <td>2016-01-03</td>\n",
       "    </tr>\n",
       "    <tr>\n",
       "      <td>3</td>\n",
       "      <td>Central Board of Direct Taxes (Income Tax)</td>\n",
       "      <td>1912</td>\n",
       "      <td>1320</td>\n",
       "      <td>2016-01-04</td>\n",
       "    </tr>\n",
       "    <tr>\n",
       "      <td>4</td>\n",
       "      <td>Central Board of Direct Taxes (Income Tax)</td>\n",
       "      <td>2797</td>\n",
       "      <td>1588</td>\n",
       "      <td>2016-01-05</td>\n",
       "    </tr>\n",
       "    <tr>\n",
       "      <td>5</td>\n",
       "      <td>Central Board of Direct Taxes (Income Tax)</td>\n",
       "      <td>2813</td>\n",
       "      <td>2944</td>\n",
       "      <td>2016-01-06</td>\n",
       "    </tr>\n",
       "    <tr>\n",
       "      <td>6</td>\n",
       "      <td>Central Board of Direct Taxes (Income Tax)</td>\n",
       "      <td>2358</td>\n",
       "      <td>2893</td>\n",
       "      <td>2016-01-07</td>\n",
       "    </tr>\n",
       "    <tr>\n",
       "      <td>7</td>\n",
       "      <td>Central Board of Direct Taxes (Income Tax)</td>\n",
       "      <td>2676</td>\n",
       "      <td>3929</td>\n",
       "      <td>2016-01-08</td>\n",
       "    </tr>\n",
       "    <tr>\n",
       "      <td>8</td>\n",
       "      <td>Central Board of Direct Taxes (Income Tax)</td>\n",
       "      <td>2258</td>\n",
       "      <td>2043</td>\n",
       "      <td>2016-01-09</td>\n",
       "    </tr>\n",
       "    <tr>\n",
       "      <td>9</td>\n",
       "      <td>Central Board of Direct Taxes (Income Tax)</td>\n",
       "      <td>1924</td>\n",
       "      <td>2942</td>\n",
       "      <td>2016-01-10</td>\n",
       "    </tr>\n",
       "  </tbody>\n",
       "</table>\n",
       "</div>"
      ],
      "text/plain": [
       "                                     org_name  Receipts  Disposals       Date\n",
       "0  Central Board of Direct Taxes (Income Tax)      1600         49 2016-01-01\n",
       "1  Central Board of Direct Taxes (Income Tax)      2106        207 2016-01-02\n",
       "2  Central Board of Direct Taxes (Income Tax)      2465       2702 2016-01-03\n",
       "3  Central Board of Direct Taxes (Income Tax)      1912       1320 2016-01-04\n",
       "4  Central Board of Direct Taxes (Income Tax)      2797       1588 2016-01-05\n",
       "5  Central Board of Direct Taxes (Income Tax)      2813       2944 2016-01-06\n",
       "6  Central Board of Direct Taxes (Income Tax)      2358       2893 2016-01-07\n",
       "7  Central Board of Direct Taxes (Income Tax)      2676       3929 2016-01-08\n",
       "8  Central Board of Direct Taxes (Income Tax)      2258       2043 2016-01-09\n",
       "9  Central Board of Direct Taxes (Income Tax)      1924       2942 2016-01-10"
      ]
     },
     "execution_count": 21,
     "metadata": {},
     "output_type": "execute_result"
    }
   ],
   "source": [
    "print(\"Now the dataframe looks like:\")\n",
    "receipts_disposal.head(10)"
   ]
  },
  {
   "cell_type": "markdown",
   "metadata": {},
   "source": [
    "It is also observed that the data has been grouped-by according to the organization name from January 2016 to November 2019. So it is better to analyze the receipts and disposals of each organization's data separately. "
   ]
  },
  {
   "cell_type": "code",
   "execution_count": 22,
   "metadata": {},
   "outputs": [
    {
     "name": "stdout",
     "output_type": "stream",
     "text": [
      "(47, 4)\n"
     ]
    },
    {
     "data": {
      "text/html": [
       "<div>\n",
       "<style scoped>\n",
       "    .dataframe tbody tr th:only-of-type {\n",
       "        vertical-align: middle;\n",
       "    }\n",
       "\n",
       "    .dataframe tbody tr th {\n",
       "        vertical-align: top;\n",
       "    }\n",
       "\n",
       "    .dataframe thead th {\n",
       "        text-align: right;\n",
       "    }\n",
       "</style>\n",
       "<table border=\"1\" class=\"dataframe\">\n",
       "  <thead>\n",
       "    <tr style=\"text-align: right;\">\n",
       "      <th></th>\n",
       "      <th>org_name</th>\n",
       "      <th>Receipts</th>\n",
       "      <th>Disposals</th>\n",
       "      <th>Date</th>\n",
       "    </tr>\n",
       "  </thead>\n",
       "  <tbody>\n",
       "    <tr>\n",
       "      <td>1424</td>\n",
       "      <td>Department of Land Resources</td>\n",
       "      <td>48</td>\n",
       "      <td>3</td>\n",
       "      <td>2016-01-01</td>\n",
       "    </tr>\n",
       "    <tr>\n",
       "      <td>1425</td>\n",
       "      <td>Department of Land Resources</td>\n",
       "      <td>44</td>\n",
       "      <td>40</td>\n",
       "      <td>2016-01-02</td>\n",
       "    </tr>\n",
       "    <tr>\n",
       "      <td>1426</td>\n",
       "      <td>Department of Land Resources</td>\n",
       "      <td>77</td>\n",
       "      <td>116</td>\n",
       "      <td>2016-01-03</td>\n",
       "    </tr>\n",
       "    <tr>\n",
       "      <td>1427</td>\n",
       "      <td>Department of Land Resources</td>\n",
       "      <td>42</td>\n",
       "      <td>52</td>\n",
       "      <td>2016-01-04</td>\n",
       "    </tr>\n",
       "    <tr>\n",
       "      <td>1428</td>\n",
       "      <td>Department of Land Resources</td>\n",
       "      <td>39</td>\n",
       "      <td>41</td>\n",
       "      <td>2016-01-05</td>\n",
       "    </tr>\n",
       "  </tbody>\n",
       "</table>\n",
       "</div>"
      ],
      "text/plain": [
       "                          org_name  Receipts  Disposals       Date\n",
       "1424  Department of Land Resources        48          3 2016-01-01\n",
       "1425  Department of Land Resources        44         40 2016-01-02\n",
       "1426  Department of Land Resources        77        116 2016-01-03\n",
       "1427  Department of Land Resources        42         52 2016-01-04\n",
       "1428  Department of Land Resources        39         41 2016-01-05"
      ]
     },
     "execution_count": 22,
     "metadata": {},
     "output_type": "execute_result"
    }
   ],
   "source": [
    "dept_LandResources = receipts_disposal[receipts_disposal[\"org_name\"]==\"Department of Land Resources\"]\n",
    "print(dept_LandResources.shape)\n",
    "dept_LandResources.head()\n"
   ]
  },
  {
   "cell_type": "markdown",
   "metadata": {},
   "source": [
    "The sliced dataframes of each department will be similar in shape with 47 rows and 4 columns"
   ]
  },
  {
   "cell_type": "code",
   "execution_count": 35,
   "metadata": {},
   "outputs": [
    {
     "data": {
      "image/png": "[encoded data removed]",
      "text/plain": [
       "<Figure size 864x720 with 1 Axes>"
      ]
     },
     "metadata": {
      "needs_background": "light"
     },
     "output_type": "display_data"
    }
   ],
   "source": [
    "#plotting receipts and disposals\n",
    "plt.figure(figsize=(12,10))\n",
    "plt.plot(dept_LandResources.Date,dept_LandResources.Receipts, label=\"Receipts\")\n",
    "plt.plot(dept_LandResources.Date,dept_LandResources.Disposals, label=\"Disposals\")\n",
    "plt.xlabel(\"Date\")\n",
    "plt.ylabel(\"Number\")\n",
    "plt.title(\"Number of Receipts and Disposals for Department of Land Resources\")\n",
    "plt.legend()\n",
    "plt.show()"
   ]
  },
  {
   "cell_type": "code",
   "execution_count": 37,
   "metadata": {},
   "outputs": [
    {
     "name": "stdout",
     "output_type": "stream",
     "text": [
      "Statistics for the Department of Land Resources:\n",
      "Total Receipts generated: 2765\n",
      "Total Number of Disposals: 2633\n",
      "Pending Receipts as on 01 November 2019: 132\n",
      "Efficiency rate: 95.0\n",
      "Average number of disposals every month: 56\n"
     ]
    }
   ],
   "source": [
    "print(\"Statistics for the Department of Land Resources:\")\n",
    "receipts1 = dept_LandResources.Receipts.sum()\n",
    "disposals1 = dept_LandResources.Disposals.sum()\n",
    "print(\"Total Receipts generated:\", dept_LandResources.Receipts.sum())\n",
    "print(\"Total Number of Disposals:\", dept_LandResources.Disposals.sum())\n",
    "print(\"Pending Receipts as on 01 November 2019:\", receipts1-disposals1)\n",
    "print(\"Efficiency rate:\", round(disposals1*100/receipts1))\n",
    "print(\"Average number of disposals every month:\", round(dept_LandResources.Disposals.mean()))"
   ]
  },
  {
   "cell_type": "code",
   "execution_count": 38,
   "metadata": {},
   "outputs": [
    {
     "data": {
      "text/html": [
       "<div>\n",
       "<style scoped>\n",
       "    .dataframe tbody tr th:only-of-type {\n",
       "        vertical-align: middle;\n",
       "    }\n",
       "\n",
       "    .dataframe tbody tr th {\n",
       "        vertical-align: top;\n",
       "    }\n",
       "\n",
       "    .dataframe thead th {\n",
       "        text-align: right;\n",
       "    }\n",
       "</style>\n",
       "<table border=\"1\" class=\"dataframe\">\n",
       "  <thead>\n",
       "    <tr style=\"text-align: right;\">\n",
       "      <th></th>\n",
       "      <th>org_name</th>\n",
       "      <th>Receipts</th>\n",
       "      <th>Disposals</th>\n",
       "      <th>Date</th>\n",
       "    </tr>\n",
       "  </thead>\n",
       "  <tbody>\n",
       "    <tr>\n",
       "      <td>1796</td>\n",
       "      <td>Department of Rural Development</td>\n",
       "      <td>206</td>\n",
       "      <td>65</td>\n",
       "      <td>2016-01-01</td>\n",
       "    </tr>\n",
       "    <tr>\n",
       "      <td>1797</td>\n",
       "      <td>Department of Rural Development</td>\n",
       "      <td>296</td>\n",
       "      <td>231</td>\n",
       "      <td>2016-01-02</td>\n",
       "    </tr>\n",
       "    <tr>\n",
       "      <td>1798</td>\n",
       "      <td>Department of Rural Development</td>\n",
       "      <td>311</td>\n",
       "      <td>199</td>\n",
       "      <td>2016-01-03</td>\n",
       "    </tr>\n",
       "    <tr>\n",
       "      <td>1799</td>\n",
       "      <td>Department of Rural Development</td>\n",
       "      <td>307</td>\n",
       "      <td>61</td>\n",
       "      <td>2016-01-04</td>\n",
       "    </tr>\n",
       "    <tr>\n",
       "      <td>1800</td>\n",
       "      <td>Department of Rural Development</td>\n",
       "      <td>279</td>\n",
       "      <td>146</td>\n",
       "      <td>2016-01-05</td>\n",
       "    </tr>\n",
       "  </tbody>\n",
       "</table>\n",
       "</div>"
      ],
      "text/plain": [
       "                             org_name  Receipts  Disposals       Date\n",
       "1796  Department of Rural Development       206         65 2016-01-01\n",
       "1797  Department of Rural Development       296        231 2016-01-02\n",
       "1798  Department of Rural Development       311        199 2016-01-03\n",
       "1799  Department of Rural Development       307         61 2016-01-04\n",
       "1800  Department of Rural Development       279        146 2016-01-05"
      ]
     },
     "execution_count": 38,
     "metadata": {},
     "output_type": "execute_result"
    }
   ],
   "source": [
    "dept_RuralDevelopment = receipts_disposal[receipts_disposal[\"org_name\"]==\"Department of Rural Development\"]\n",
    "dept_RuralDevelopment.head()"
   ]
  },
  {
   "cell_type": "code",
   "execution_count": 39,
   "metadata": {},
   "outputs": [
    {
     "data": {
      "image/png": "[encoded data removed]",
      "text/plain": [
       "<Figure size 864x720 with 1 Axes>"
      ]
     },
     "metadata": {
      "needs_background": "light"
     },
     "output_type": "display_data"
    }
   ],
   "source": [
    "#plotting receipts and disposals\n",
    "plt.figure(figsize=(12,10))\n",
    "plt.plot(dept_RuralDevelopment.Date,dept_RuralDevelopment.Receipts, label=\"Receipts\")\n",
    "plt.plot(dept_RuralDevelopment.Date,dept_RuralDevelopment.Disposals, label=\"Disposals\")\n",
    "plt.xlabel(\"Date\")\n",
    "plt.ylabel(\"Number\")\n",
    "plt.title(\"Number of Receipts and Disposals for Department of Rural Development\")\n",
    "plt.legend()\n",
    "plt.show()"
   ]
  },
  {
   "cell_type": "code",
   "execution_count": 40,
   "metadata": {},
   "outputs": [
    {
     "name": "stdout",
     "output_type": "stream",
     "text": [
      "Statistics for the Department of Rural Development:\n",
      "Total Receipts generated: 16541\n",
      "Total Number of Disposals: 15266\n",
      "Pending Receipts as on 01 November 2019: 1275\n",
      "Efficiency rate: 92.0\n",
      "Average number of disposals every month: 325\n"
     ]
    }
   ],
   "source": [
    "print(\"Statistics for the Department of Rural Development:\")\n",
    "receipts2 = dept_RuralDevelopment.Receipts.sum()\n",
    "disposals2 = dept_RuralDevelopment.Disposals.sum()\n",
    "print(\"Total Receipts generated:\", dept_RuralDevelopment.Receipts.sum())\n",
    "print(\"Total Number of Disposals:\", dept_RuralDevelopment.Disposals.sum())\n",
    "print(\"Pending Receipts as on 01 November 2019:\", receipts2-disposals2)\n",
    "print(\"Efficiency rate:\", round(disposals2*100/receipts2))\n",
    "print(\"Average number of disposals every month:\", round(dept_RuralDevelopment.Disposals.mean()))"
   ]
  },
  {
   "cell_type": "code",
   "execution_count": 41,
   "metadata": {},
   "outputs": [
    {
     "data": {
      "text/html": [
       "<div>\n",
       "<style scoped>\n",
       "    .dataframe tbody tr th:only-of-type {\n",
       "        vertical-align: middle;\n",
       "    }\n",
       "\n",
       "    .dataframe tbody tr th {\n",
       "        vertical-align: top;\n",
       "    }\n",
       "\n",
       "    .dataframe thead th {\n",
       "        text-align: right;\n",
       "    }\n",
       "</style>\n",
       "<table border=\"1\" class=\"dataframe\">\n",
       "  <thead>\n",
       "    <tr style=\"text-align: right;\">\n",
       "      <th></th>\n",
       "      <th>org_name</th>\n",
       "      <th>Receipts</th>\n",
       "      <th>Disposals</th>\n",
       "      <th>Date</th>\n",
       "    </tr>\n",
       "  </thead>\n",
       "  <tbody>\n",
       "    <tr>\n",
       "      <td>2344</td>\n",
       "      <td>Government of Assam</td>\n",
       "      <td>287</td>\n",
       "      <td>1</td>\n",
       "      <td>2016-01-01</td>\n",
       "    </tr>\n",
       "    <tr>\n",
       "      <td>2345</td>\n",
       "      <td>Government of Assam</td>\n",
       "      <td>398</td>\n",
       "      <td>2</td>\n",
       "      <td>2016-01-02</td>\n",
       "    </tr>\n",
       "    <tr>\n",
       "      <td>2346</td>\n",
       "      <td>Government of Assam</td>\n",
       "      <td>375</td>\n",
       "      <td>1</td>\n",
       "      <td>2016-01-03</td>\n",
       "    </tr>\n",
       "    <tr>\n",
       "      <td>2347</td>\n",
       "      <td>Government of Assam</td>\n",
       "      <td>344</td>\n",
       "      <td>3</td>\n",
       "      <td>2016-01-04</td>\n",
       "    </tr>\n",
       "    <tr>\n",
       "      <td>2348</td>\n",
       "      <td>Government of Assam</td>\n",
       "      <td>492</td>\n",
       "      <td>5</td>\n",
       "      <td>2016-01-05</td>\n",
       "    </tr>\n",
       "  </tbody>\n",
       "</table>\n",
       "</div>"
      ],
      "text/plain": [
       "                 org_name  Receipts  Disposals       Date\n",
       "2344  Government of Assam       287          1 2016-01-01\n",
       "2345  Government of Assam       398          2 2016-01-02\n",
       "2346  Government of Assam       375          1 2016-01-03\n",
       "2347  Government of Assam       344          3 2016-01-04\n",
       "2348  Government of Assam       492          5 2016-01-05"
      ]
     },
     "execution_count": 41,
     "metadata": {},
     "output_type": "execute_result"
    }
   ],
   "source": [
    "govt_Assam = receipts_disposal[receipts_disposal[\"org_name\"]==\"Government of Assam\"]\n",
    "govt_Assam.head()"
   ]
  },
  {
   "cell_type": "code",
   "execution_count": 42,
   "metadata": {},
   "outputs": [
    {
     "data": {
      "image/png": "[encoded data removed]",
      "text/plain": [
       "<Figure size 864x720 with 1 Axes>"
      ]
     },
     "metadata": {
      "needs_background": "light"
     },
     "output_type": "display_data"
    }
   ],
   "source": [
    "#plotting receipts and disposals\n",
    "plt.figure(figsize=(12,10))\n",
    "plt.plot(govt_Assam.Date,govt_Assam.Receipts, label=\"Receipts\")\n",
    "plt.plot(govt_Assam.Date,govt_Assam.Disposals, label=\"Disposals\")\n",
    "plt.xlabel(\"Date\")\n",
    "plt.ylabel(\"Number\")\n",
    "plt.title(\"Number of Receipts and Disposals for Government of Assam\")\n",
    "plt.legend()\n",
    "plt.show()"
   ]
  },
  {
   "cell_type": "code",
   "execution_count": 43,
   "metadata": {},
   "outputs": [
    {
     "name": "stdout",
     "output_type": "stream",
     "text": [
      "Statistics for the Government of Assam:\n",
      "Total Receipts generated: 27077\n",
      "Total Number of Disposals: 3302\n",
      "Pending Receipts as on 01 November 2019: 23775\n",
      "Efficiency rate: 12.0\n",
      "Average number of disposals every month: 70\n"
     ]
    }
   ],
   "source": [
    "print(\"Statistics for the Government of Assam:\")\n",
    "receipts3 = govt_Assam.Receipts.sum()\n",
    "disposals3 = govt_Assam.Disposals.sum()\n",
    "print(\"Total Receipts generated:\", govt_Assam.Receipts.sum())\n",
    "print(\"Total Number of Disposals:\", govt_Assam.Disposals.sum())\n",
    "print(\"Pending Receipts as on 01 November 2019:\", receipts3-disposals3)\n",
    "print(\"Efficiency rate:\", round(disposals3*100/receipts3))\n",
    "print(\"Average number of disposals every month:\", round(govt_Assam.Disposals.mean()))"
   ]
  },
  {
   "cell_type": "code",
   "execution_count": 44,
   "metadata": {},
   "outputs": [
    {
     "data": {
      "text/html": [
       "<div>\n",
       "<style scoped>\n",
       "    .dataframe tbody tr th:only-of-type {\n",
       "        vertical-align: middle;\n",
       "    }\n",
       "\n",
       "    .dataframe tbody tr th {\n",
       "        vertical-align: top;\n",
       "    }\n",
       "\n",
       "    .dataframe thead th {\n",
       "        text-align: right;\n",
       "    }\n",
       "</style>\n",
       "<table border=\"1\" class=\"dataframe\">\n",
       "  <thead>\n",
       "    <tr style=\"text-align: right;\">\n",
       "      <th></th>\n",
       "      <th>org_name</th>\n",
       "      <th>Receipts</th>\n",
       "      <th>Disposals</th>\n",
       "      <th>Date</th>\n",
       "    </tr>\n",
       "  </thead>\n",
       "  <tbody>\n",
       "    <tr>\n",
       "      <td>5335</td>\n",
       "      <td>Ministry of Women and Child Development</td>\n",
       "      <td>267</td>\n",
       "      <td>208</td>\n",
       "      <td>2016-01-01</td>\n",
       "    </tr>\n",
       "    <tr>\n",
       "      <td>5336</td>\n",
       "      <td>Ministry of Women and Child Development</td>\n",
       "      <td>338</td>\n",
       "      <td>274</td>\n",
       "      <td>2016-01-02</td>\n",
       "    </tr>\n",
       "    <tr>\n",
       "      <td>5337</td>\n",
       "      <td>Ministry of Women and Child Development</td>\n",
       "      <td>409</td>\n",
       "      <td>333</td>\n",
       "      <td>2016-01-03</td>\n",
       "    </tr>\n",
       "    <tr>\n",
       "      <td>5338</td>\n",
       "      <td>Ministry of Women and Child Development</td>\n",
       "      <td>313</td>\n",
       "      <td>302</td>\n",
       "      <td>2016-01-04</td>\n",
       "    </tr>\n",
       "    <tr>\n",
       "      <td>5339</td>\n",
       "      <td>Ministry of Women and Child Development</td>\n",
       "      <td>317</td>\n",
       "      <td>229</td>\n",
       "      <td>2016-01-05</td>\n",
       "    </tr>\n",
       "  </tbody>\n",
       "</table>\n",
       "</div>"
      ],
      "text/plain": [
       "                                     org_name  Receipts  Disposals       Date\n",
       "5335  Ministry of Women and Child Development       267        208 2016-01-01\n",
       "5336  Ministry of Women and Child Development       338        274 2016-01-02\n",
       "5337  Ministry of Women and Child Development       409        333 2016-01-03\n",
       "5338  Ministry of Women and Child Development       313        302 2016-01-04\n",
       "5339  Ministry of Women and Child Development       317        229 2016-01-05"
      ]
     },
     "execution_count": 44,
     "metadata": {},
     "output_type": "execute_result"
    }
   ],
   "source": [
    "min_WomenChild = receipts_disposal[receipts_disposal[\"org_name\"]==\"Ministry of Women and Child Development\"]\n",
    "min_WomenChild.head()"
   ]
  },
  {
   "cell_type": "code",
   "execution_count": 45,
   "metadata": {},
   "outputs": [
    {
     "data": {
      "image/png": "[encoded data removed]",
      "text/plain": [
       "<Figure size 864x720 with 1 Axes>"
      ]
     },
     "metadata": {
      "needs_background": "light"
     },
     "output_type": "display_data"
    }
   ],
   "source": [
    "#plotting receipts and disposals\n",
    "plt.figure(figsize=(12,10))\n",
    "plt.plot(min_WomenChild.Date,min_WomenChild.Receipts, label=\"Receipts\")\n",
    "plt.plot(min_WomenChild.Date,min_WomenChild.Disposals, label=\"Disposals\")\n",
    "plt.xlabel(\"Date\")\n",
    "plt.ylabel(\"Number\")\n",
    "plt.title(\"Number of Receipts and Disposals for Ministry of Women and Child Development\")\n",
    "plt.legend()\n",
    "plt.show()"
   ]
  },
  {
   "cell_type": "code",
   "execution_count": 46,
   "metadata": {},
   "outputs": [
    {
     "name": "stdout",
     "output_type": "stream",
     "text": [
      "Statistics for the Ministry of Women and Child Development:\n",
      "Total Receipts generated: 16419\n",
      "Total Number of Disposals: 16257\n",
      "Pending Receipts as on 01 November 2019: 162\n",
      "Efficiency rate: 99.0\n",
      "Average number of disposals every month: 346\n"
     ]
    }
   ],
   "source": [
    "print(\"Statistics for the Ministry of Women and Child Development:\")\n",
    "receipts4 = min_WomenChild.Receipts.sum()\n",
    "disposals4 = min_WomenChild.Disposals.sum()\n",
    "print(\"Total Receipts generated:\", min_WomenChild.Receipts.sum())\n",
    "print(\"Total Number of Disposals:\", min_WomenChild.Disposals.sum())\n",
    "print(\"Pending Receipts as on 01 November 2019:\", receipts4-disposals4)\n",
    "print(\"Efficiency rate:\", round(disposals4*100/receipts4))\n",
    "print(\"Average number of disposals every month:\", round(min_WomenChild.Disposals.mean()))"
   ]
  },
  {
   "cell_type": "code",
   "execution_count": 47,
   "metadata": {},
   "outputs": [
    {
     "data": {
      "text/html": [
       "<div>\n",
       "<style scoped>\n",
       "    .dataframe tbody tr th:only-of-type {\n",
       "        vertical-align: middle;\n",
       "    }\n",
       "\n",
       "    .dataframe tbody tr th {\n",
       "        vertical-align: top;\n",
       "    }\n",
       "\n",
       "    .dataframe thead th {\n",
       "        text-align: right;\n",
       "    }\n",
       "</style>\n",
       "<table border=\"1\" class=\"dataframe\">\n",
       "  <thead>\n",
       "    <tr style=\"text-align: right;\">\n",
       "      <th></th>\n",
       "      <th>org_name</th>\n",
       "      <th>Receipts</th>\n",
       "      <th>Disposals</th>\n",
       "      <th>Date</th>\n",
       "    </tr>\n",
       "  </thead>\n",
       "  <tbody>\n",
       "    <tr>\n",
       "      <td>1564</td>\n",
       "      <td>Department of Personnel and Training</td>\n",
       "      <td>915</td>\n",
       "      <td>291</td>\n",
       "      <td>2016-01-01</td>\n",
       "    </tr>\n",
       "    <tr>\n",
       "      <td>1565</td>\n",
       "      <td>Department of Personnel and Training</td>\n",
       "      <td>13746</td>\n",
       "      <td>13001</td>\n",
       "      <td>2016-01-02</td>\n",
       "    </tr>\n",
       "    <tr>\n",
       "      <td>1566</td>\n",
       "      <td>Department of Personnel and Training</td>\n",
       "      <td>2794</td>\n",
       "      <td>2074</td>\n",
       "      <td>2016-01-03</td>\n",
       "    </tr>\n",
       "    <tr>\n",
       "      <td>1567</td>\n",
       "      <td>Department of Personnel and Training</td>\n",
       "      <td>1431</td>\n",
       "      <td>919</td>\n",
       "      <td>2016-01-04</td>\n",
       "    </tr>\n",
       "    <tr>\n",
       "      <td>1568</td>\n",
       "      <td>Department of Personnel and Training</td>\n",
       "      <td>1166</td>\n",
       "      <td>2834</td>\n",
       "      <td>2016-01-05</td>\n",
       "    </tr>\n",
       "  </tbody>\n",
       "</table>\n",
       "</div>"
      ],
      "text/plain": [
       "                                  org_name  Receipts  Disposals       Date\n",
       "1564  Department of Personnel and Training       915        291 2016-01-01\n",
       "1565  Department of Personnel and Training     13746      13001 2016-01-02\n",
       "1566  Department of Personnel and Training      2794       2074 2016-01-03\n",
       "1567  Department of Personnel and Training      1431        919 2016-01-04\n",
       "1568  Department of Personnel and Training      1166       2834 2016-01-05"
      ]
     },
     "execution_count": 47,
     "metadata": {},
     "output_type": "execute_result"
    }
   ],
   "source": [
    "dept_PerTrain = receipts_disposal[receipts_disposal[\"org_name\"]==\"Department of Personnel and Training\"]\n",
    "dept_PerTrain.head()"
   ]
  },
  {
   "cell_type": "code",
   "execution_count": 48,
   "metadata": {},
   "outputs": [
    {
     "data": {
      "image/png": "[encoded data removed]",
      "text/plain": [
       "<Figure size 864x720 with 1 Axes>"
      ]
     },
     "metadata": {
      "needs_background": "light"
     },
     "output_type": "display_data"
    }
   ],
   "source": [
    "#plotting receipts and disposals\n",
    "plt.figure(figsize=(12,10))\n",
    "plt.plot(dept_PerTrain.Date,dept_PerTrain.Receipts, label=\"Receipts\")\n",
    "plt.plot(dept_PerTrain.Date,dept_PerTrain.Disposals, label=\"Disposals\")\n",
    "plt.xlabel(\"Date\")\n",
    "plt.ylabel(\"Number\")\n",
    "plt.title(\"Number of Receipts and Disposals for Department of Personnel and Training\")\n",
    "plt.legend()\n",
    "plt.show()"
   ]
  },
  {
   "cell_type": "code",
   "execution_count": null,
   "metadata": {},
   "outputs": [],
   "source": [
    "print(\"Statistics for the Department of Personnel and Training:\")\n",
    "receipts5 = dept_PerTrain.Receipts.sum()\n",
    "disposals5 = dept_PerTrain.Disposals.sum()\n",
    "print(\"Total Receipts generated:\", dept_PerTrain.Receipts.sum())\n",
    "print(\"Total Number of Disposals:\", dept_PerTrain.Disposals.sum())\n",
    "print(\"Pending Receipts as on 01 November 2019:\", receipts5-disposals4)\n",
    "print(\"Efficiency rate:\", round(disposals4*100/receipts4))\n",
    "print(\"Average number of disposals every month:\", round(min_WomenChild.Disposals.mean()))"
   ]
  }
 ],
 "metadata": {
  "kernelspec": {
   "display_name": "Python 3",
   "language": "python",
   "name": "python3"
  },
  "language_info": {
   "codemirror_mode": {
    "name": "ipython",
    "version": 3
   },
   "file_extension": ".py",
   "mimetype": "text/x-python",
   "name": "python",
   "nbconvert_exporter": "python",
   "pygments_lexer": "ipython3",
   "version": "3.7.4"
  }
 },
 "nbformat": 4,
 "nbformat_minor": 2
}
