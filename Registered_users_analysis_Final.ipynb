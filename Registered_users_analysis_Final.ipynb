{
 "cells": [
  {
   "cell_type": "markdown",
   "metadata": {},
   "source": [
    "# Registered Users' Analysis #"
   ]
  },
  {
   "cell_type": "code",
   "execution_count": 95,
   "metadata": {},
   "outputs": [],
   "source": [
    "import pandas as pd\n",
    "import matplotlib.pyplot as plt\n",
    "import numpy as np\n",
    "import seaborn as sns\n",
    "from sklearn.pipeline import Pipeline\n",
    "from sklearn.preprocessing import StandardScaler,PolynomialFeatures\n",
    "%matplotlib inline\n",
    "from matplotlib.pyplot import rcParams\n",
    "rcParams['figure.figsize']= 10,6"
   ]
  },
  {
   "cell_type": "code",
   "execution_count": 96,
   "metadata": {},
   "outputs": [],
   "source": [
    "path =r\"C:\\Users\\GAURI TOSHNIWAL\\Documents\\DARPG Hackathon\\Registered_Users.csv\"\n",
    "df = pd.read_csv(path,encoding = 'unicode_escape',low_memory=False)"
   ]
  },
  {
   "cell_type": "code",
   "execution_count": 97,
   "metadata": {},
   "outputs": [
    {
     "data": {
      "text/plain": [
       "(618968, 8)"
      ]
     },
     "execution_count": 97,
     "metadata": {},
     "output_type": "execute_result"
    }
   ],
   "source": [
    "df.shape"
   ]
  },
  {
   "cell_type": "code",
   "execution_count": 98,
   "metadata": {},
   "outputs": [],
   "source": [
    "df.set_index('User Code',inplace=True)"
   ]
  },
  {
   "cell_type": "code",
   "execution_count": 99,
   "metadata": {},
   "outputs": [
    {
     "data": {
      "text/plain": [
       "(618968, 7)"
      ]
     },
     "execution_count": 99,
     "metadata": {},
     "output_type": "execute_result"
    }
   ],
   "source": [
    "df.shape"
   ]
  },
  {
   "cell_type": "code",
   "execution_count": 100,
   "metadata": {},
   "outputs": [
    {
     "data": {
      "text/html": [
       "<div>\n",
       "<style scoped>\n",
       "    .dataframe tbody tr th:only-of-type {\n",
       "        vertical-align: middle;\n",
       "    }\n",
       "\n",
       "    .dataframe tbody tr th {\n",
       "        vertical-align: top;\n",
       "    }\n",
       "\n",
       "    .dataframe thead th {\n",
       "        text-align: right;\n",
       "    }\n",
       "</style>\n",
       "<table border=\"1\" class=\"dataframe\">\n",
       "  <thead>\n",
       "    <tr style=\"text-align: right;\">\n",
       "      <th></th>\n",
       "      <th>Country</th>\n",
       "      <th>State Name</th>\n",
       "      <th>District Name</th>\n",
       "      <th>Pin</th>\n",
       "      <th>Gender</th>\n",
       "      <th>Date of Registration</th>\n",
       "      <th>Time of Registration</th>\n",
       "    </tr>\n",
       "    <tr>\n",
       "      <th>User Code</th>\n",
       "      <th></th>\n",
       "      <th></th>\n",
       "      <th></th>\n",
       "      <th></th>\n",
       "      <th></th>\n",
       "      <th></th>\n",
       "      <th></th>\n",
       "    </tr>\n",
       "  </thead>\n",
       "  <tbody>\n",
       "    <tr>\n",
       "      <th>1</th>\n",
       "      <td>India</td>\n",
       "      <td>Delhi</td>\n",
       "      <td>South West Delhi</td>\n",
       "      <td>110022</td>\n",
       "      <td>M</td>\n",
       "      <td>03/11/2017</td>\n",
       "      <td>18:15:15</td>\n",
       "    </tr>\n",
       "    <tr>\n",
       "      <th>2</th>\n",
       "      <td>India</td>\n",
       "      <td>Uttarakhand</td>\n",
       "      <td>Dehradun</td>\n",
       "      <td>249201</td>\n",
       "      <td>T</td>\n",
       "      <td>03/11/2017</td>\n",
       "      <td>21:01:32</td>\n",
       "    </tr>\n",
       "    <tr>\n",
       "      <th>3</th>\n",
       "      <td>India</td>\n",
       "      <td>Delhi</td>\n",
       "      <td>North Delhi</td>\n",
       "      <td>247667</td>\n",
       "      <td>M</td>\n",
       "      <td>03/11/2017</td>\n",
       "      <td>21:55:22</td>\n",
       "    </tr>\n",
       "    <tr>\n",
       "      <th>4</th>\n",
       "      <td>India</td>\n",
       "      <td>Haryana</td>\n",
       "      <td>Hisar</td>\n",
       "      <td>125001</td>\n",
       "      <td>M</td>\n",
       "      <td>03/11/2017</td>\n",
       "      <td>22:20:35</td>\n",
       "    </tr>\n",
       "    <tr>\n",
       "      <th>5</th>\n",
       "      <td>India</td>\n",
       "      <td>Delhi</td>\n",
       "      <td>North Delhi</td>\n",
       "      <td>248001</td>\n",
       "      <td>M</td>\n",
       "      <td>04/11/2017</td>\n",
       "      <td>13:31:47</td>\n",
       "    </tr>\n",
       "  </tbody>\n",
       "</table>\n",
       "</div>"
      ],
      "text/plain": [
       "          Country   State Name     District Name     Pin Gender  \\\n",
       "User Code                                                         \n",
       "1           India        Delhi  South West Delhi  110022      M   \n",
       "2           India  Uttarakhand          Dehradun  249201      T   \n",
       "3           India        Delhi       North Delhi  247667      M   \n",
       "4           India      Haryana             Hisar  125001      M   \n",
       "5           India        Delhi       North Delhi  248001      M   \n",
       "\n",
       "          Date of Registration Time of Registration  \n",
       "User Code                                            \n",
       "1                   03/11/2017             18:15:15  \n",
       "2                   03/11/2017             21:01:32  \n",
       "3                   03/11/2017             21:55:22  \n",
       "4                   03/11/2017             22:20:35  \n",
       "5                   04/11/2017             13:31:47  "
      ]
     },
     "execution_count": 100,
     "metadata": {},
     "output_type": "execute_result"
    }
   ],
   "source": [
    "df.head()"
   ]
  },
  {
   "cell_type": "code",
   "execution_count": 101,
   "metadata": {},
   "outputs": [
    {
     "data": {
      "text/html": [
       "<div>\n",
       "<style scoped>\n",
       "    .dataframe tbody tr th:only-of-type {\n",
       "        vertical-align: middle;\n",
       "    }\n",
       "\n",
       "    .dataframe tbody tr th {\n",
       "        vertical-align: top;\n",
       "    }\n",
       "\n",
       "    .dataframe thead th {\n",
       "        text-align: right;\n",
       "    }\n",
       "</style>\n",
       "<table border=\"1\" class=\"dataframe\">\n",
       "  <thead>\n",
       "    <tr style=\"text-align: right;\">\n",
       "      <th></th>\n",
       "      <th>Country</th>\n",
       "      <th>State Name</th>\n",
       "      <th>District Name</th>\n",
       "      <th>Pin</th>\n",
       "      <th>Gender</th>\n",
       "      <th>Date of Registration</th>\n",
       "      <th>Time of Registration</th>\n",
       "    </tr>\n",
       "    <tr>\n",
       "      <th>User Code</th>\n",
       "      <th></th>\n",
       "      <th></th>\n",
       "      <th></th>\n",
       "      <th></th>\n",
       "      <th></th>\n",
       "      <th></th>\n",
       "      <th></th>\n",
       "    </tr>\n",
       "  </thead>\n",
       "  <tbody>\n",
       "    <tr>\n",
       "      <th>629937</th>\n",
       "      <td>India</td>\n",
       "      <td>Andhra Pradesh</td>\n",
       "      <td>Visakhapatnam</td>\n",
       "      <td>530018</td>\n",
       "      <td>F</td>\n",
       "      <td>24/10/2019</td>\n",
       "      <td>16:54:24</td>\n",
       "    </tr>\n",
       "    <tr>\n",
       "      <th>629938</th>\n",
       "      <td>India</td>\n",
       "      <td>Delhi</td>\n",
       "      <td>New Delhi</td>\n",
       "      <td>110092</td>\n",
       "      <td>m</td>\n",
       "      <td>24/10/2019</td>\n",
       "      <td>16:59:51</td>\n",
       "    </tr>\n",
       "    <tr>\n",
       "      <th>629939</th>\n",
       "      <td>India</td>\n",
       "      <td>Jharkhand</td>\n",
       "      <td>Gumla</td>\n",
       "      <td>835207</td>\n",
       "      <td>M</td>\n",
       "      <td>24/10/2019</td>\n",
       "      <td>17:00:40</td>\n",
       "    </tr>\n",
       "    <tr>\n",
       "      <th>629940</th>\n",
       "      <td>India</td>\n",
       "      <td>Maharashtra</td>\n",
       "      <td>Mumbai City</td>\n",
       "      <td>400018</td>\n",
       "      <td>f</td>\n",
       "      <td>24/10/2019</td>\n",
       "      <td>17:01:30</td>\n",
       "    </tr>\n",
       "    <tr>\n",
       "      <th>629941</th>\n",
       "      <td>India</td>\n",
       "      <td>West Bengal</td>\n",
       "      <td>North 24 Parganas</td>\n",
       "      <td>700056</td>\n",
       "      <td>F</td>\n",
       "      <td>24/10/2019</td>\n",
       "      <td>17:05:58</td>\n",
       "    </tr>\n",
       "  </tbody>\n",
       "</table>\n",
       "</div>"
      ],
      "text/plain": [
       "          Country      State Name      District Name     Pin Gender  \\\n",
       "User Code                                                             \n",
       "629937      India  Andhra Pradesh      Visakhapatnam  530018      F   \n",
       "629938      India           Delhi          New Delhi  110092      m   \n",
       "629939      India       Jharkhand              Gumla  835207      M   \n",
       "629940      India     Maharashtra        Mumbai City  400018      f   \n",
       "629941      India     West Bengal  North 24 Parganas  700056      F   \n",
       "\n",
       "          Date of Registration Time of Registration  \n",
       "User Code                                            \n",
       "629937              24/10/2019             16:54:24  \n",
       "629938              24/10/2019             16:59:51  \n",
       "629939              24/10/2019             17:00:40  \n",
       "629940              24/10/2019             17:01:30  \n",
       "629941              24/10/2019             17:05:58  "
      ]
     },
     "execution_count": 101,
     "metadata": {},
     "output_type": "execute_result"
    }
   ],
   "source": [
    "df.tail()"
   ]
  },
  {
   "cell_type": "code",
   "execution_count": 102,
   "metadata": {},
   "outputs": [
    {
     "name": "stdout",
     "output_type": "stream",
     "text": [
      "<class 'pandas.core.frame.DataFrame'>\n",
      "Int64Index: 618968 entries, 1 to 629941\n",
      "Data columns (total 7 columns):\n",
      "Country                 618968 non-null object\n",
      "State Name              618599 non-null object\n",
      "District Name           618803 non-null object\n",
      "Pin                     591863 non-null object\n",
      "Gender                  618660 non-null object\n",
      "Date of Registration    618968 non-null object\n",
      "Time of Registration    618968 non-null object\n",
      "dtypes: object(7)\n",
      "memory usage: 37.8+ MB\n"
     ]
    }
   ],
   "source": [
    "df.info()"
   ]
  },
  {
   "cell_type": "markdown",
   "metadata": {},
   "source": [
    "## Gender Distribution:##"
   ]
  },
  {
   "cell_type": "code",
   "execution_count": 103,
   "metadata": {},
   "outputs": [
    {
     "data": {
      "text/plain": [
       "M    483814\n",
       "F     66037\n",
       "m     63803\n",
       "f      4976\n",
       "t        27\n",
       "T         3\n",
       "Name: Gender, dtype: int64"
      ]
     },
     "execution_count": 103,
     "metadata": {},
     "output_type": "execute_result"
    }
   ],
   "source": [
    "df['Gender'].value_counts()"
   ]
  },
  {
   "cell_type": "code",
   "execution_count": 104,
   "metadata": {},
   "outputs": [],
   "source": [
    "df['Gender'].replace(to_replace =\"m\", value =\"M\",inplace=True) "
   ]
  },
  {
   "cell_type": "code",
   "execution_count": 105,
   "metadata": {},
   "outputs": [],
   "source": [
    "df['Gender'].replace(to_replace =\"f\", value =\"F\",inplace=True) "
   ]
  },
  {
   "cell_type": "code",
   "execution_count": 106,
   "metadata": {},
   "outputs": [],
   "source": [
    "df['Gender'].replace(to_replace =\"t\", value =\"T\",inplace=True)"
   ]
  },
  {
   "cell_type": "code",
   "execution_count": 107,
   "metadata": {},
   "outputs": [
    {
     "data": {
      "text/plain": [
       "M    547617\n",
       "F     71013\n",
       "T        30\n",
       "Name: Gender, dtype: int64"
      ]
     },
     "execution_count": 107,
     "metadata": {},
     "output_type": "execute_result"
    }
   ],
   "source": [
    "h = df['Gender'].value_counts()\n",
    "h"
   ]
  },
  {
   "cell_type": "code",
   "execution_count": 119,
   "metadata": {},
   "outputs": [
    {
     "data": {
      "text/plain": [
       "<BarContainer object of 3 artists>"
      ]
     },
     "execution_count": 119,
     "metadata": {},
     "output_type": "execute_result"
    },
    {
     "data": {
      "image/png": "[encoded data removed]",
      "text/plain": [
       "<Figure size 720x432 with 1 Axes>"
      ]
     },
     "metadata": {
      "needs_background": "light"
     },
     "output_type": "display_data"
    }
   ],
   "source": [
    "plt.bar(['Male','Female','Other'],h, width=0.4, align='center', data= df)"
   ]
  },
  {
   "cell_type": "code",
   "execution_count": 109,
   "metadata": {},
   "outputs": [
    {
     "data": {
      "image/png": "[encoded data removed]",
      "text/plain": [
       "<Figure size 720x432 with 1 Axes>"
      ]
     },
     "metadata": {},
     "output_type": "display_data"
    }
   ],
   "source": [
    "labels = ['Males', 'Females', 'Others']\n",
    "sizes = [547617, 71013, 30]\n",
    "explode = (0.1, 0, 0)\n",
    "fig1,ax1 = plt.subplots()\n",
    "ax1.pie(sizes, explode=explode, labels=labels, autopct='%1.5f%%')\n",
    "ax1.axis('equal')\n",
    "plt.show()"
   ]
  },
  {
   "cell_type": "markdown",
   "metadata": {},
   "source": [
    "#### Out of 6,18,660 users:<br><br> 5,47,617 are male<br><br>71,013 are female<br><br>and 30 others"
   ]
  },
  {
   "cell_type": "markdown",
   "metadata": {},
   "source": [
    "## Users distributed over different Countries ##"
   ]
  },
  {
   "cell_type": "code",
   "execution_count": 110,
   "metadata": {},
   "outputs": [],
   "source": [
    "country = df['Country'].value_counts()"
   ]
  },
  {
   "cell_type": "code",
   "execution_count": 111,
   "metadata": {},
   "outputs": [],
   "source": [
    "df1 = country.to_frame()"
   ]
  },
  {
   "cell_type": "code",
   "execution_count": 112,
   "metadata": {},
   "outputs": [
    {
     "data": {
      "text/html": [
       "<div>\n",
       "<style scoped>\n",
       "    .dataframe tbody tr th:only-of-type {\n",
       "        vertical-align: middle;\n",
       "    }\n",
       "\n",
       "    .dataframe tbody tr th {\n",
       "        vertical-align: top;\n",
       "    }\n",
       "\n",
       "    .dataframe thead th {\n",
       "        text-align: right;\n",
       "    }\n",
       "</style>\n",
       "<table border=\"1\" class=\"dataframe\">\n",
       "  <thead>\n",
       "    <tr style=\"text-align: right;\">\n",
       "      <th></th>\n",
       "      <th>Country</th>\n",
       "    </tr>\n",
       "  </thead>\n",
       "  <tbody>\n",
       "    <tr>\n",
       "      <th>India</th>\n",
       "      <td>615583</td>\n",
       "    </tr>\n",
       "    <tr>\n",
       "      <th>USA</th>\n",
       "      <td>1093</td>\n",
       "    </tr>\n",
       "    <tr>\n",
       "      <th>United Arab Emirates</th>\n",
       "      <td>316</td>\n",
       "    </tr>\n",
       "    <tr>\n",
       "      <th>United Kingdom and Northern Ir</th>\n",
       "      <td>220</td>\n",
       "    </tr>\n",
       "    <tr>\n",
       "      <th>Canada</th>\n",
       "      <td>216</td>\n",
       "    </tr>\n",
       "    <tr>\n",
       "      <th>Australia</th>\n",
       "      <td>191</td>\n",
       "    </tr>\n",
       "    <tr>\n",
       "      <th>Singapore</th>\n",
       "      <td>140</td>\n",
       "    </tr>\n",
       "    <tr>\n",
       "      <th>Others</th>\n",
       "      <td>118</td>\n",
       "    </tr>\n",
       "    <tr>\n",
       "      <th>Oman</th>\n",
       "      <td>72</td>\n",
       "    </tr>\n",
       "    <tr>\n",
       "      <th>Saudi Arabia</th>\n",
       "      <td>66</td>\n",
       "    </tr>\n",
       "  </tbody>\n",
       "</table>\n",
       "</div>"
      ],
      "text/plain": [
       "                                Country\n",
       "India                            615583\n",
       "USA                                1093\n",
       "United Arab Emirates                316\n",
       "United Kingdom and Northern Ir      220\n",
       "Canada                              216\n",
       "Australia                           191\n",
       "Singapore                           140\n",
       "Others                              118\n",
       "Oman                                 72\n",
       "Saudi Arabia                         66"
      ]
     },
     "execution_count": 112,
     "metadata": {},
     "output_type": "execute_result"
    }
   ],
   "source": [
    "df1.head(10)"
   ]
  },
  {
   "cell_type": "markdown",
   "metadata": {},
   "source": [
    "#### Out of 6,18,968 registered users<br><br>6,15,583 are Indian ####"
   ]
  },
  {
   "cell_type": "markdown",
   "metadata": {},
   "source": [
    "### Registered Users from every state: ###"
   ]
  },
  {
   "cell_type": "code",
   "execution_count": 113,
   "metadata": {},
   "outputs": [],
   "source": [
    "a = df['State Name'].value_counts()"
   ]
  },
  {
   "cell_type": "code",
   "execution_count": 114,
   "metadata": {},
   "outputs": [],
   "source": [
    "df = df[df['State Name'] != '---Select State---']"
   ]
  },
  {
   "cell_type": "code",
   "execution_count": 115,
   "metadata": {},
   "outputs": [],
   "source": [
    "state = a.to_frame()"
   ]
  },
  {
   "cell_type": "code",
   "execution_count": 116,
   "metadata": {},
   "outputs": [
    {
     "data": {
      "text/plain": [
       "array(['Delhi', 'Uttarakhand', 'Haryana', 'Jammu And Kashmir',\n",
       "       'Andhra Pradesh', 'Tamilnadu', 'Karnataka', 'Rajasthan', 'Punjab',\n",
       "       'Gujarat', 'Odisha', 'Uttar Pradesh', 'Bihar', 'Jharkhand',\n",
       "       'Chandigarh', 'Assam', 'Madhya Pradesh', 'Maharashtra',\n",
       "       'West Bengal', 'Tripura', 'Chhattisgarh', 'Himachal Pradesh',\n",
       "       'Telangana', 'Kerala', 'Dadra and Nagar Haveli', 'Goa',\n",
       "       'Daman and Diu', 'Puducherry', 'Manipur',\n",
       "       'Andaman And Nicobar Islands', 'Sikkim', 'Meghalaya',\n",
       "       'Arunachal Pradesh', nan, 'Mizoram', 'Nagaland', 'Not Known',\n",
       "       'Lakshadweep'], dtype=object)"
      ]
     },
     "execution_count": 116,
     "metadata": {},
     "output_type": "execute_result"
    }
   ],
   "source": [
    "df['State Name'].unique()"
   ]
  },
  {
   "cell_type": "code",
   "execution_count": 117,
   "metadata": {},
   "outputs": [
    {
     "data": {
      "text/plain": [
       "<matplotlib.axes._subplots.AxesSubplot at 0x1d255b75cf8>"
      ]
     },
     "execution_count": 117,
     "metadata": {},
     "output_type": "execute_result"
    },
    {
     "data": {
      "image/png": "[encoded data removed]",
      "text/plain": [
       "<Figure size 720x432 with 1 Axes>"
      ]
     },
     "metadata": {
      "needs_background": "light"
     },
     "output_type": "display_data"
    }
   ],
   "source": [
    "df['State Name'].value_counts().plot.bar()"
   ]
  },
  {
   "cell_type": "markdown",
   "metadata": {},
   "source": [
    "#### Top 10 states with maximum registered users are :####"
   ]
  },
  {
   "cell_type": "code",
   "execution_count": 120,
   "metadata": {},
   "outputs": [
    {
     "data": {
      "text/html": [
       "<div>\n",
       "<style scoped>\n",
       "    .dataframe tbody tr th:only-of-type {\n",
       "        vertical-align: middle;\n",
       "    }\n",
       "\n",
       "    .dataframe tbody tr th {\n",
       "        vertical-align: top;\n",
       "    }\n",
       "\n",
       "    .dataframe thead th {\n",
       "        text-align: right;\n",
       "    }\n",
       "</style>\n",
       "<table border=\"1\" class=\"dataframe\">\n",
       "  <thead>\n",
       "    <tr style=\"text-align: right;\">\n",
       "      <th></th>\n",
       "      <th>State Name</th>\n",
       "    </tr>\n",
       "  </thead>\n",
       "  <tbody>\n",
       "    <tr>\n",
       "      <th>Uttar Pradesh</th>\n",
       "      <td>101272</td>\n",
       "    </tr>\n",
       "    <tr>\n",
       "      <th>Maharashtra</th>\n",
       "      <td>68331</td>\n",
       "    </tr>\n",
       "    <tr>\n",
       "      <th>Delhi</th>\n",
       "      <td>55810</td>\n",
       "    </tr>\n",
       "    <tr>\n",
       "      <th>Karnataka</th>\n",
       "      <td>53049</td>\n",
       "    </tr>\n",
       "    <tr>\n",
       "      <th>Rajasthan</th>\n",
       "      <td>34507</td>\n",
       "    </tr>\n",
       "    <tr>\n",
       "      <th>Haryana</th>\n",
       "      <td>32261</td>\n",
       "    </tr>\n",
       "    <tr>\n",
       "      <th>Gujarat</th>\n",
       "      <td>31920</td>\n",
       "    </tr>\n",
       "    <tr>\n",
       "      <th>West Bengal</th>\n",
       "      <td>31902</td>\n",
       "    </tr>\n",
       "    <tr>\n",
       "      <th>Bihar</th>\n",
       "      <td>29033</td>\n",
       "    </tr>\n",
       "    <tr>\n",
       "      <th>Tamilnadu</th>\n",
       "      <td>28366</td>\n",
       "    </tr>\n",
       "  </tbody>\n",
       "</table>\n",
       "</div>"
      ],
      "text/plain": [
       "               State Name\n",
       "Uttar Pradesh      101272\n",
       "Maharashtra         68331\n",
       "Delhi               55810\n",
       "Karnataka           53049\n",
       "Rajasthan           34507\n",
       "Haryana             32261\n",
       "Gujarat             31920\n",
       "West Bengal         31902\n",
       "Bihar               29033\n",
       "Tamilnadu           28366"
      ]
     },
     "execution_count": 120,
     "metadata": {},
     "output_type": "execute_result"
    }
   ],
   "source": [
    "state.head(10)"
   ]
  },
  {
   "cell_type": "markdown",
   "metadata": {},
   "source": [
    "### Number of users registered as per year :###"
   ]
  },
  {
   "cell_type": "code",
   "execution_count": 121,
   "metadata": {},
   "outputs": [],
   "source": [
    "df['New Date of Registration'] = pd.to_datetime(df['Date of Registration'])"
   ]
  },
  {
   "cell_type": "code",
   "execution_count": 123,
   "metadata": {},
   "outputs": [
    {
     "data": {
      "text/plain": [
       "Country                             object\n",
       "State Name                          object\n",
       "District Name                       object\n",
       "Pin                                 object\n",
       "Gender                              object\n",
       "Date of Registration                object\n",
       "Time of Registration                object\n",
       "New Date of Registration    datetime64[ns]\n",
       "dtype: object"
      ]
     },
     "execution_count": 123,
     "metadata": {},
     "output_type": "execute_result"
    }
   ],
   "source": [
    "df.dtypes"
   ]
  },
  {
   "cell_type": "code",
   "execution_count": 124,
   "metadata": {},
   "outputs": [],
   "source": [
    "df['Year'] = df['New Date of Registration'].dt.year"
   ]
  },
  {
   "cell_type": "code",
   "execution_count": 132,
   "metadata": {},
   "outputs": [
    {
     "data": {
      "text/plain": [
       "2018    315643\n",
       "2019    295819\n",
       "2017      7503\n",
       "Name: Year, dtype: int64"
      ]
     },
     "execution_count": 132,
     "metadata": {},
     "output_type": "execute_result"
    }
   ],
   "source": [
    "height = df['Year'].value_counts()\n",
    "height"
   ]
  },
  {
   "cell_type": "code",
   "execution_count": 133,
   "metadata": {},
   "outputs": [
    {
     "data": {
      "text/plain": [
       "<BarContainer object of 3 artists>"
      ]
     },
     "execution_count": 133,
     "metadata": {},
     "output_type": "execute_result"
    },
    {
     "data": {
      "image/png": "[encoded data removed]",
      "text/plain": [
       "<Figure size 720x432 with 1 Axes>"
      ]
     },
     "metadata": {
      "needs_background": "light"
     },
     "output_type": "display_data"
    }
   ],
   "source": [
    "plt.bar(['2018','2019','2017'],height, width=0.4, align='center', data= df)"
   ]
  },
  {
   "cell_type": "markdown",
   "metadata": {},
   "source": [
    "#### Maximum Users registered in year 2018 ####"
   ]
  },
  {
   "cell_type": "code",
   "execution_count": 136,
   "metadata": {},
   "outputs": [],
   "source": [
    "df['Month'] = df['New Date of Registration'].dt.month"
   ]
  },
  {
   "cell_type": "code",
   "execution_count": 141,
   "metadata": {
    "scrolled": false
   },
   "outputs": [
    {
     "data": {
      "text/plain": [
       "6     67692\n",
       "7     62561\n",
       "9     59077\n",
       "8     56948\n",
       "1     55153\n",
       "3     54363\n",
       "5     51620\n",
       "2     47109\n",
       "4     46807\n",
       "10    43456\n",
       "11    38687\n",
       "12    35492\n",
       "Name: Month, dtype: int64"
      ]
     },
     "execution_count": 141,
     "metadata": {},
     "output_type": "execute_result"
    }
   ],
   "source": [
    "month = df['Month'].value_counts()\n",
    "month"
   ]
  },
  {
   "cell_type": "code",
   "execution_count": 143,
   "metadata": {},
   "outputs": [
    {
     "data": {
      "text/plain": [
       "<BarContainer object of 12 artists>"
      ]
     },
     "execution_count": 143,
     "metadata": {},
     "output_type": "execute_result"
    },
    {
     "data": {
      "image/png": "[encoded data removed]",
      "text/plain": [
       "<Figure size 720x432 with 1 Axes>"
      ]
     },
     "metadata": {
      "needs_background": "light"
     },
     "output_type": "display_data"
    }
   ],
   "source": [
    "m = ['June','July','September','August','January','March','May','February','April','October','November','December']\n",
    "plt.bar(m,month, width=0.4, align='center', data= df)"
   ]
  },
  {
   "cell_type": "markdown",
   "metadata": {},
   "source": [
    "#### June , July are months given any year where most users register themselves ###"
   ]
  },
  {
   "cell_type": "code",
   "execution_count": 144,
   "metadata": {},
   "outputs": [],
   "source": [
    "df.drop('Pin',axis = 1,inplace = True)"
   ]
  },
  {
   "cell_type": "code",
   "execution_count": 145,
   "metadata": {},
   "outputs": [],
   "source": [
    "df.drop('Date of Registration',axis=1,inplace=True)"
   ]
  },
  {
   "cell_type": "code",
   "execution_count": 146,
   "metadata": {},
   "outputs": [
    {
     "data": {
      "text/html": [
       "<div>\n",
       "<style scoped>\n",
       "    .dataframe tbody tr th:only-of-type {\n",
       "        vertical-align: middle;\n",
       "    }\n",
       "\n",
       "    .dataframe tbody tr th {\n",
       "        vertical-align: top;\n",
       "    }\n",
       "\n",
       "    .dataframe thead th {\n",
       "        text-align: right;\n",
       "    }\n",
       "</style>\n",
       "<table border=\"1\" class=\"dataframe\">\n",
       "  <thead>\n",
       "    <tr style=\"text-align: right;\">\n",
       "      <th></th>\n",
       "      <th>Country</th>\n",
       "      <th>State Name</th>\n",
       "      <th>District Name</th>\n",
       "      <th>Gender</th>\n",
       "      <th>Time of Registration</th>\n",
       "      <th>New Date of Registration</th>\n",
       "      <th>Year</th>\n",
       "      <th>Month</th>\n",
       "    </tr>\n",
       "    <tr>\n",
       "      <th>User Code</th>\n",
       "      <th></th>\n",
       "      <th></th>\n",
       "      <th></th>\n",
       "      <th></th>\n",
       "      <th></th>\n",
       "      <th></th>\n",
       "      <th></th>\n",
       "      <th></th>\n",
       "    </tr>\n",
       "  </thead>\n",
       "  <tbody>\n",
       "    <tr>\n",
       "      <th>1</th>\n",
       "      <td>India</td>\n",
       "      <td>Delhi</td>\n",
       "      <td>South West Delhi</td>\n",
       "      <td>M</td>\n",
       "      <td>18:15:15</td>\n",
       "      <td>2017-03-11</td>\n",
       "      <td>2017</td>\n",
       "      <td>3</td>\n",
       "    </tr>\n",
       "    <tr>\n",
       "      <th>2</th>\n",
       "      <td>India</td>\n",
       "      <td>Uttarakhand</td>\n",
       "      <td>Dehradun</td>\n",
       "      <td>T</td>\n",
       "      <td>21:01:32</td>\n",
       "      <td>2017-03-11</td>\n",
       "      <td>2017</td>\n",
       "      <td>3</td>\n",
       "    </tr>\n",
       "    <tr>\n",
       "      <th>3</th>\n",
       "      <td>India</td>\n",
       "      <td>Delhi</td>\n",
       "      <td>North Delhi</td>\n",
       "      <td>M</td>\n",
       "      <td>21:55:22</td>\n",
       "      <td>2017-03-11</td>\n",
       "      <td>2017</td>\n",
       "      <td>3</td>\n",
       "    </tr>\n",
       "    <tr>\n",
       "      <th>4</th>\n",
       "      <td>India</td>\n",
       "      <td>Haryana</td>\n",
       "      <td>Hisar</td>\n",
       "      <td>M</td>\n",
       "      <td>22:20:35</td>\n",
       "      <td>2017-03-11</td>\n",
       "      <td>2017</td>\n",
       "      <td>3</td>\n",
       "    </tr>\n",
       "    <tr>\n",
       "      <th>5</th>\n",
       "      <td>India</td>\n",
       "      <td>Delhi</td>\n",
       "      <td>North Delhi</td>\n",
       "      <td>M</td>\n",
       "      <td>13:31:47</td>\n",
       "      <td>2017-04-11</td>\n",
       "      <td>2017</td>\n",
       "      <td>4</td>\n",
       "    </tr>\n",
       "  </tbody>\n",
       "</table>\n",
       "</div>"
      ],
      "text/plain": [
       "          Country   State Name     District Name Gender Time of Registration  \\\n",
       "User Code                                                                      \n",
       "1           India        Delhi  South West Delhi      M             18:15:15   \n",
       "2           India  Uttarakhand          Dehradun      T             21:01:32   \n",
       "3           India        Delhi       North Delhi      M             21:55:22   \n",
       "4           India      Haryana             Hisar      M             22:20:35   \n",
       "5           India        Delhi       North Delhi      M             13:31:47   \n",
       "\n",
       "          New Date of Registration  Year  Month  \n",
       "User Code                                        \n",
       "1                       2017-03-11  2017      3  \n",
       "2                       2017-03-11  2017      3  \n",
       "3                       2017-03-11  2017      3  \n",
       "4                       2017-03-11  2017      3  \n",
       "5                       2017-04-11  2017      4  "
      ]
     },
     "execution_count": 146,
     "metadata": {},
     "output_type": "execute_result"
    }
   ],
   "source": [
    "df.head()"
   ]
  },
  {
   "cell_type": "markdown",
   "metadata": {},
   "source": [
    "## Summary : ##"
   ]
  },
  {
   "cell_type": "markdown",
   "metadata": {},
   "source": [
    "1. Maximum Number of Registered Users are Indians : 6,15,583\n",
    "2. Maximum Number of Registered Users are Male : 5,47,616\n",
    "3. Maximum Number of Registered Users are from Uttar Pradesh(1,01,272) followed by Maharashtra(68,331)\n",
    "4. Maximum Registeration were made in the year 2018 followed by 2019\n",
    "5. Maximum Registeration are made in month of June and July."
   ]
  },
  {
   "cell_type": "code",
   "execution_count": null,
   "metadata": {},
   "outputs": [],
   "source": []
  }
 ],
 "metadata": {
  "kernelspec": {
   "display_name": "Python 3",
   "language": "python",
   "name": "python3"
  },
  "language_info": {
   "codemirror_mode": {
    "name": "ipython",
    "version": 3
   },
   "file_extension": ".py",
   "mimetype": "text/x-python",
   "name": "python",
   "nbconvert_exporter": "python",
   "pygments_lexer": "ipython3",
   "version": "3.7.3"
  }
 },
 "nbformat": 4,
 "nbformat_minor": 2
}
