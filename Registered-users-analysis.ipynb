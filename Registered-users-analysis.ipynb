{
 "cells": [
  {
   "cell_type": "code",
   "execution_count": 117,
   "metadata": {},
   "outputs": [],
   "source": [
    "import pandas as pd\n",
    "import matplotlib.pyplot as plt\n",
    "import numpy as np\n",
    "import seaborn as sns\n",
    "from sklearn.pipeline import Pipeline\n",
    "from sklearn.preprocessing import StandardScaler,PolynomialFeatures\n",
    "%matplotlib inline"
   ]
  },
  {
   "cell_type": "code",
   "execution_count": 118,
   "metadata": {},
   "outputs": [],
   "source": [
    "path =r\"C:\\Users\\GAURI TOSHNIWAL\\Documents\\DARPG Hackathon\\Registered_Users.csv\"\n",
    "df = pd.read_csv(path,encoding = 'unicode_escape',low_memory=False)"
   ]
  },
  {
   "cell_type": "code",
   "execution_count": 119,
   "metadata": {},
   "outputs": [
    {
     "data": {
      "text/html": [
       "<div>\n",
       "<style scoped>\n",
       "    .dataframe tbody tr th:only-of-type {\n",
       "        vertical-align: middle;\n",
       "    }\n",
       "\n",
       "    .dataframe tbody tr th {\n",
       "        vertical-align: top;\n",
       "    }\n",
       "\n",
       "    .dataframe thead th {\n",
       "        text-align: right;\n",
       "    }\n",
       "</style>\n",
       "<table border=\"1\" class=\"dataframe\">\n",
       "  <thead>\n",
       "    <tr style=\"text-align: right;\">\n",
       "      <th></th>\n",
       "      <th>User Code</th>\n",
       "      <th>Country</th>\n",
       "      <th>State Name</th>\n",
       "      <th>District Name</th>\n",
       "      <th>Pin</th>\n",
       "      <th>Gender</th>\n",
       "      <th>Date of Registration</th>\n",
       "      <th>Time of Registration</th>\n",
       "    </tr>\n",
       "  </thead>\n",
       "  <tbody>\n",
       "    <tr>\n",
       "      <th>0</th>\n",
       "      <td>1</td>\n",
       "      <td>India</td>\n",
       "      <td>Delhi</td>\n",
       "      <td>South West Delhi</td>\n",
       "      <td>110022</td>\n",
       "      <td>M</td>\n",
       "      <td>03/11/2017</td>\n",
       "      <td>18:15:15</td>\n",
       "    </tr>\n",
       "    <tr>\n",
       "      <th>1</th>\n",
       "      <td>2</td>\n",
       "      <td>India</td>\n",
       "      <td>Uttarakhand</td>\n",
       "      <td>Dehradun</td>\n",
       "      <td>249201</td>\n",
       "      <td>T</td>\n",
       "      <td>03/11/2017</td>\n",
       "      <td>21:01:32</td>\n",
       "    </tr>\n",
       "    <tr>\n",
       "      <th>2</th>\n",
       "      <td>3</td>\n",
       "      <td>India</td>\n",
       "      <td>Delhi</td>\n",
       "      <td>North Delhi</td>\n",
       "      <td>247667</td>\n",
       "      <td>M</td>\n",
       "      <td>03/11/2017</td>\n",
       "      <td>21:55:22</td>\n",
       "    </tr>\n",
       "    <tr>\n",
       "      <th>3</th>\n",
       "      <td>4</td>\n",
       "      <td>India</td>\n",
       "      <td>Haryana</td>\n",
       "      <td>Hisar</td>\n",
       "      <td>125001</td>\n",
       "      <td>M</td>\n",
       "      <td>03/11/2017</td>\n",
       "      <td>22:20:35</td>\n",
       "    </tr>\n",
       "    <tr>\n",
       "      <th>4</th>\n",
       "      <td>5</td>\n",
       "      <td>India</td>\n",
       "      <td>Delhi</td>\n",
       "      <td>North Delhi</td>\n",
       "      <td>248001</td>\n",
       "      <td>M</td>\n",
       "      <td>04/11/2017</td>\n",
       "      <td>13:31:47</td>\n",
       "    </tr>\n",
       "  </tbody>\n",
       "</table>\n",
       "</div>"
      ],
      "text/plain": [
       "   User Code Country   State Name     District Name     Pin Gender  \\\n",
       "0          1   India        Delhi  South West Delhi  110022      M   \n",
       "1          2   India  Uttarakhand          Dehradun  249201      T   \n",
       "2          3   India        Delhi       North Delhi  247667      M   \n",
       "3          4   India      Haryana             Hisar  125001      M   \n",
       "4          5   India        Delhi       North Delhi  248001      M   \n",
       "\n",
       "  Date of Registration Time of Registration  \n",
       "0           03/11/2017             18:15:15  \n",
       "1           03/11/2017             21:01:32  \n",
       "2           03/11/2017             21:55:22  \n",
       "3           03/11/2017             22:20:35  \n",
       "4           04/11/2017             13:31:47  "
      ]
     },
     "execution_count": 119,
     "metadata": {},
     "output_type": "execute_result"
    }
   ],
   "source": [
    "df.head()"
   ]
  },
  {
   "cell_type": "markdown",
   "metadata": {},
   "source": [
    "Gender Distribution:"
   ]
  },
  {
   "cell_type": "code",
   "execution_count": 120,
   "metadata": {},
   "outputs": [
    {
     "data": {
      "text/plain": [
       "M    483814\n",
       "F     66037\n",
       "m     63803\n",
       "f      4976\n",
       "t        27\n",
       "T         3\n",
       "Name: Gender, dtype: int64"
      ]
     },
     "execution_count": 120,
     "metadata": {},
     "output_type": "execute_result"
    }
   ],
   "source": [
    "df['Gender'].value_counts()"
   ]
  },
  {
   "cell_type": "code",
   "execution_count": 154,
   "metadata": {},
   "outputs": [],
   "source": [
    "df['Gender'].replace(to_replace =\"m\", value =\"M\",inplace=True) "
   ]
  },
  {
   "cell_type": "code",
   "execution_count": 155,
   "metadata": {},
   "outputs": [],
   "source": [
    "df['Gender'].replace(to_replace =\"f\", value =\"F\",inplace=True) "
   ]
  },
  {
   "cell_type": "code",
   "execution_count": 156,
   "metadata": {},
   "outputs": [],
   "source": [
    "df['Gender'].replace(to_replace =\"t\", value =\"T\",inplace=True)"
   ]
  },
  {
   "cell_type": "code",
   "execution_count": 161,
   "metadata": {},
   "outputs": [
    {
     "data": {
      "text/plain": [
       "M    547617\n",
       "F     71013\n",
       "T        30\n",
       "Name: Gender, dtype: int64"
      ]
     },
     "execution_count": 161,
     "metadata": {},
     "output_type": "execute_result"
    }
   ],
   "source": [
    "df['Gender'].value_counts()"
   ]
  },
  {
   "cell_type": "markdown",
   "metadata": {},
   "source": [
    "Total number of countries present :112     "
   ]
  },
  {
   "cell_type": "code",
   "execution_count": 121,
   "metadata": {},
   "outputs": [
    {
     "data": {
      "text/plain": [
       "India                             615583\n",
       "USA                                 1093\n",
       "United Arab Emirates                 316\n",
       "United Kingdom and Northern Ir       220\n",
       "Canada                               216\n",
       "Australia                            191\n",
       "Singapore                            140\n",
       "Others                               118\n",
       "Oman                                  72\n",
       "Germany                               66\n",
       "Saudi Arabia                          66\n",
       "Kuwait                                63\n",
       "Indonesia                             60\n",
       "Nepal                                 58\n",
       "Qatar                                 57\n",
       "Malaysia                              40\n",
       "New Zealand                           39\n",
       "Bahrain                               34\n",
       "France                                33\n",
       "Japan                                 27\n",
       "Netherlands                           26\n",
       "China                                 22\n",
       "Nigeria                               22\n",
       "South Africa                          21\n",
       "Sweden                                19\n",
       "Iceland                               18\n",
       "Ireland                               17\n",
       "Hungary                               15\n",
       "Bangladesh                            15\n",
       "Philippines                           15\n",
       "                                   ...  \n",
       "Turkmenistan                           1\n",
       "Madagascar                             1\n",
       "Kazakhstan                             1\n",
       "Colombia                               1\n",
       "Myanmar                                1\n",
       "Slovenia                               1\n",
       "Brunei                                 1\n",
       "Dominican Republic                     1\n",
       "Bahamas                                1\n",
       "Estonia                                1\n",
       "Seychelles                             1\n",
       "Cyprus                                 1\n",
       "Tunisia                                1\n",
       "Lesotho                                1\n",
       "Sudan                                  1\n",
       "Argentina                              1\n",
       "Cameroon                               1\n",
       "Kyrgyzstan                             1\n",
       "Ecuador                                1\n",
       "Liberia                                1\n",
       "Romania                                1\n",
       "Morocco                                1\n",
       "Guyana                                 1\n",
       "Croatia                                1\n",
       "Cuba                                   1\n",
       "Djibouti                               1\n",
       "Congo, Democratic Republic of          1\n",
       "Angola                                 1\n",
       "Chile                                  1\n",
       "Belarus                                1\n",
       "Name: Country, Length: 112, dtype: int64"
      ]
     },
     "execution_count": 121,
     "metadata": {},
     "output_type": "execute_result"
    }
   ],
   "source": [
    "df['Country'].value_counts()"
   ]
  },
  {
   "cell_type": "markdown",
   "metadata": {},
   "source": [
    "Registered Users from every state"
   ]
  },
  {
   "cell_type": "code",
   "execution_count": 122,
   "metadata": {},
   "outputs": [
    {
     "data": {
      "text/plain": [
       "Uttar Pradesh                  101272\n",
       "Maharashtra                     68331\n",
       "Delhi                           55810\n",
       "Karnataka                       53049\n",
       "Rajasthan                       34507\n",
       "Haryana                         32261\n",
       "Gujarat                         31920\n",
       "West Bengal                     31902\n",
       "Bihar                           29033\n",
       "Tamilnadu                       28366\n",
       "Madhya Pradesh                  25109\n",
       "Punjab                          14974\n",
       "Telangana                       13730\n",
       "Andhra Pradesh                  13248\n",
       "Odisha                          12986\n",
       "Jharkhand                       12443\n",
       "Kerala                          11763\n",
       "Assam                            9260\n",
       "Uttarakhand                      8245\n",
       "Chhattisgarh                     7734\n",
       "Jammu And Kashmir                5729\n",
       "Himachal Pradesh                 4268\n",
       "Chandigarh                       3096\n",
       "Not Known                        3017\n",
       "Tripura                          1638\n",
       "Goa                              1304\n",
       "Puducherry                        979\n",
       "Manipur                           553\n",
       "Meghalaya                         483\n",
       "Arunachal Pradesh                 369\n",
       "Andaman And Nicobar Islands       317\n",
       "Nagaland                          229\n",
       "Sikkim                            216\n",
       "Dadra and Nagar Haveli            189\n",
       "Daman and Diu                     146\n",
       "Mizoram                           101\n",
       "Lakshadweep                        19\n",
       "---Select State---                  3\n",
       "Name: State Name, dtype: int64"
      ]
     },
     "execution_count": 122,
     "metadata": {},
     "output_type": "execute_result"
    }
   ],
   "source": [
    "df['State Name'].value_counts()"
   ]
  },
  {
   "cell_type": "code",
   "execution_count": 123,
   "metadata": {},
   "outputs": [
    {
     "name": "stdout",
     "output_type": "stream",
     "text": [
      "<class 'pandas.core.frame.DataFrame'>\n",
      "RangeIndex: 618968 entries, 0 to 618967\n",
      "Data columns (total 8 columns):\n",
      "User Code               618968 non-null int64\n",
      "Country                 618968 non-null object\n",
      "State Name              618599 non-null object\n",
      "District Name           618803 non-null object\n",
      "Pin                     591863 non-null object\n",
      "Gender                  618660 non-null object\n",
      "Date of Registration    618968 non-null object\n",
      "Time of Registration    618968 non-null object\n",
      "dtypes: int64(1), object(7)\n",
      "memory usage: 37.8+ MB\n"
     ]
    }
   ],
   "source": [
    "df.info()"
   ]
  },
  {
   "cell_type": "code",
   "execution_count": 162,
   "metadata": {},
   "outputs": [
    {
     "data": {
      "text/html": [
       "<div>\n",
       "<style scoped>\n",
       "    .dataframe tbody tr th:only-of-type {\n",
       "        vertical-align: middle;\n",
       "    }\n",
       "\n",
       "    .dataframe tbody tr th {\n",
       "        vertical-align: top;\n",
       "    }\n",
       "\n",
       "    .dataframe thead th {\n",
       "        text-align: right;\n",
       "    }\n",
       "</style>\n",
       "<table border=\"1\" class=\"dataframe\">\n",
       "  <thead>\n",
       "    <tr style=\"text-align: right;\">\n",
       "      <th></th>\n",
       "      <th>User Code</th>\n",
       "      <th>Country</th>\n",
       "      <th>State Name</th>\n",
       "      <th>District Name</th>\n",
       "      <th>Gender</th>\n",
       "      <th>Time of Registration</th>\n",
       "      <th>Date of Registeration</th>\n",
       "      <th>Year</th>\n",
       "      <th>Month</th>\n",
       "    </tr>\n",
       "  </thead>\n",
       "  <tbody>\n",
       "    <tr>\n",
       "      <th>618963</th>\n",
       "      <td>629937</td>\n",
       "      <td>India</td>\n",
       "      <td>Andhra Pradesh</td>\n",
       "      <td>Visakhapatnam</td>\n",
       "      <td>F</td>\n",
       "      <td>16:54:24</td>\n",
       "      <td>2019-10-24</td>\n",
       "      <td>2019</td>\n",
       "      <td>10</td>\n",
       "    </tr>\n",
       "    <tr>\n",
       "      <th>618964</th>\n",
       "      <td>629938</td>\n",
       "      <td>India</td>\n",
       "      <td>Delhi</td>\n",
       "      <td>New Delhi</td>\n",
       "      <td>M</td>\n",
       "      <td>16:59:51</td>\n",
       "      <td>2019-10-24</td>\n",
       "      <td>2019</td>\n",
       "      <td>10</td>\n",
       "    </tr>\n",
       "    <tr>\n",
       "      <th>618965</th>\n",
       "      <td>629939</td>\n",
       "      <td>India</td>\n",
       "      <td>Jharkhand</td>\n",
       "      <td>Gumla</td>\n",
       "      <td>M</td>\n",
       "      <td>17:00:40</td>\n",
       "      <td>2019-10-24</td>\n",
       "      <td>2019</td>\n",
       "      <td>10</td>\n",
       "    </tr>\n",
       "    <tr>\n",
       "      <th>618966</th>\n",
       "      <td>629940</td>\n",
       "      <td>India</td>\n",
       "      <td>Maharashtra</td>\n",
       "      <td>Mumbai City</td>\n",
       "      <td>F</td>\n",
       "      <td>17:01:30</td>\n",
       "      <td>2019-10-24</td>\n",
       "      <td>2019</td>\n",
       "      <td>10</td>\n",
       "    </tr>\n",
       "    <tr>\n",
       "      <th>618967</th>\n",
       "      <td>629941</td>\n",
       "      <td>India</td>\n",
       "      <td>West Bengal</td>\n",
       "      <td>North 24 Parganas</td>\n",
       "      <td>F</td>\n",
       "      <td>17:05:58</td>\n",
       "      <td>2019-10-24</td>\n",
       "      <td>2019</td>\n",
       "      <td>10</td>\n",
       "    </tr>\n",
       "  </tbody>\n",
       "</table>\n",
       "</div>"
      ],
      "text/plain": [
       "        User Code Country      State Name      District Name Gender  \\\n",
       "618963     629937   India  Andhra Pradesh      Visakhapatnam      F   \n",
       "618964     629938   India           Delhi          New Delhi      M   \n",
       "618965     629939   India       Jharkhand              Gumla      M   \n",
       "618966     629940   India     Maharashtra        Mumbai City      F   \n",
       "618967     629941   India     West Bengal  North 24 Parganas      F   \n",
       "\n",
       "       Time of Registration Date of Registeration  Year  Month  \n",
       "618963             16:54:24            2019-10-24  2019     10  \n",
       "618964             16:59:51            2019-10-24  2019     10  \n",
       "618965             17:00:40            2019-10-24  2019     10  \n",
       "618966             17:01:30            2019-10-24  2019     10  \n",
       "618967             17:05:58            2019-10-24  2019     10  "
      ]
     },
     "execution_count": 162,
     "metadata": {},
     "output_type": "execute_result"
    }
   ],
   "source": [
    "df.tail()"
   ]
  },
  {
   "cell_type": "code",
   "execution_count": 125,
   "metadata": {},
   "outputs": [
    {
     "data": {
      "text/plain": [
       "(618968, 8)"
      ]
     },
     "execution_count": 125,
     "metadata": {},
     "output_type": "execute_result"
    }
   ],
   "source": [
    "df.shape"
   ]
  },
  {
   "cell_type": "code",
   "execution_count": 126,
   "metadata": {},
   "outputs": [
    {
     "data": {
      "text/plain": [
       "<matplotlib.axes._subplots.AxesSubplot at 0x1fe18cef518>"
      ]
     },
     "execution_count": 126,
     "metadata": {},
     "output_type": "execute_result"
    },
    {
     "data": {
      "image/png": "[encoded data removed]",
      "text/plain": [
       "<Figure size 432x288 with 1 Axes>"
      ]
     },
     "metadata": {
      "needs_background": "light"
     },
     "output_type": "display_data"
    }
   ],
   "source": [
    "df['State Name'].value_counts().plot.bar()"
   ]
  },
  {
   "cell_type": "code",
   "execution_count": 129,
   "metadata": {},
   "outputs": [],
   "source": [
    "df['Date of Registeration'] = pd.to_datetime(df['Date of Registration'])"
   ]
  },
  {
   "cell_type": "code",
   "execution_count": 130,
   "metadata": {},
   "outputs": [
    {
     "data": {
      "text/plain": [
       "User Code                         int64\n",
       "Country                          object\n",
       "State Name                       object\n",
       "District Name                    object\n",
       "Pin                              object\n",
       "Gender                           object\n",
       "Date of Registration             object\n",
       "Time of Registration             object\n",
       "Date of Registeration    datetime64[ns]\n",
       "dtype: object"
      ]
     },
     "execution_count": 130,
     "metadata": {},
     "output_type": "execute_result"
    }
   ],
   "source": [
    "df.dtypes"
   ]
  },
  {
   "cell_type": "code",
   "execution_count": 131,
   "metadata": {},
   "outputs": [],
   "source": [
    "df['Year'] = df['Date of Registeration'].dt.year"
   ]
  },
  {
   "cell_type": "markdown",
   "metadata": {},
   "source": [
    "Number of users registered as per year"
   ]
  },
  {
   "cell_type": "code",
   "execution_count": 133,
   "metadata": {},
   "outputs": [
    {
     "data": {
      "text/plain": [
       "2018    315643\n",
       "2019    295822\n",
       "2017      7503\n",
       "Name: Year, dtype: int64"
      ]
     },
     "execution_count": 133,
     "metadata": {},
     "output_type": "execute_result"
    }
   ],
   "source": [
    "df['Year'].value_counts()"
   ]
  },
  {
   "cell_type": "code",
   "execution_count": 137,
   "metadata": {},
   "outputs": [],
   "source": [
    "df['Month'] = df['Date of Registeration'].dt.month"
   ]
  },
  {
   "cell_type": "markdown",
   "metadata": {},
   "source": [
    "Number of users registered as per year"
   ]
  },
  {
   "cell_type": "code",
   "execution_count": 138,
   "metadata": {
    "scrolled": false
   },
   "outputs": [
    {
     "data": {
      "text/plain": [
       "6     67692\n",
       "7     62561\n",
       "9     59078\n",
       "8     56950\n",
       "1     55153\n",
       "3     54363\n",
       "5     51620\n",
       "2     47109\n",
       "4     46807\n",
       "10    43456\n",
       "11    38687\n",
       "12    35492\n",
       "Name: Month, dtype: int64"
      ]
     },
     "execution_count": 138,
     "metadata": {},
     "output_type": "execute_result"
    }
   ],
   "source": [
    "df['Month'].value_counts()"
   ]
  },
  {
   "cell_type": "code",
   "execution_count": 144,
   "metadata": {},
   "outputs": [],
   "source": [
    "df.drop('Pin',axis = 1,inplace = True)"
   ]
  },
  {
   "cell_type": "code",
   "execution_count": 146,
   "metadata": {},
   "outputs": [],
   "source": [
    "df.drop('Date of Registration',axis=1,inplace=True)"
   ]
  },
  {
   "cell_type": "code",
   "execution_count": 149,
   "metadata": {},
   "outputs": [
    {
     "data": {
      "text/html": [
       "<div>\n",
       "<style scoped>\n",
       "    .dataframe tbody tr th:only-of-type {\n",
       "        vertical-align: middle;\n",
       "    }\n",
       "\n",
       "    .dataframe tbody tr th {\n",
       "        vertical-align: top;\n",
       "    }\n",
       "\n",
       "    .dataframe thead th {\n",
       "        text-align: right;\n",
       "    }\n",
       "</style>\n",
       "<table border=\"1\" class=\"dataframe\">\n",
       "  <thead>\n",
       "    <tr style=\"text-align: right;\">\n",
       "      <th></th>\n",
       "      <th>User Code</th>\n",
       "      <th>Country</th>\n",
       "      <th>State Name</th>\n",
       "      <th>District Name</th>\n",
       "      <th>Gender</th>\n",
       "      <th>Time of Registration</th>\n",
       "      <th>Date of Registeration</th>\n",
       "      <th>Year</th>\n",
       "      <th>Month</th>\n",
       "    </tr>\n",
       "  </thead>\n",
       "  <tbody>\n",
       "    <tr>\n",
       "      <th>0</th>\n",
       "      <td>1</td>\n",
       "      <td>India</td>\n",
       "      <td>Delhi</td>\n",
       "      <td>South West Delhi</td>\n",
       "      <td>M</td>\n",
       "      <td>18:15:15</td>\n",
       "      <td>2017-03-11</td>\n",
       "      <td>2017</td>\n",
       "      <td>3</td>\n",
       "    </tr>\n",
       "    <tr>\n",
       "      <th>1</th>\n",
       "      <td>2</td>\n",
       "      <td>India</td>\n",
       "      <td>Uttarakhand</td>\n",
       "      <td>Dehradun</td>\n",
       "      <td>T</td>\n",
       "      <td>21:01:32</td>\n",
       "      <td>2017-03-11</td>\n",
       "      <td>2017</td>\n",
       "      <td>3</td>\n",
       "    </tr>\n",
       "    <tr>\n",
       "      <th>2</th>\n",
       "      <td>3</td>\n",
       "      <td>India</td>\n",
       "      <td>Delhi</td>\n",
       "      <td>North Delhi</td>\n",
       "      <td>M</td>\n",
       "      <td>21:55:22</td>\n",
       "      <td>2017-03-11</td>\n",
       "      <td>2017</td>\n",
       "      <td>3</td>\n",
       "    </tr>\n",
       "    <tr>\n",
       "      <th>3</th>\n",
       "      <td>4</td>\n",
       "      <td>India</td>\n",
       "      <td>Haryana</td>\n",
       "      <td>Hisar</td>\n",
       "      <td>M</td>\n",
       "      <td>22:20:35</td>\n",
       "      <td>2017-03-11</td>\n",
       "      <td>2017</td>\n",
       "      <td>3</td>\n",
       "    </tr>\n",
       "    <tr>\n",
       "      <th>4</th>\n",
       "      <td>5</td>\n",
       "      <td>India</td>\n",
       "      <td>Delhi</td>\n",
       "      <td>North Delhi</td>\n",
       "      <td>M</td>\n",
       "      <td>13:31:47</td>\n",
       "      <td>2017-04-11</td>\n",
       "      <td>2017</td>\n",
       "      <td>4</td>\n",
       "    </tr>\n",
       "  </tbody>\n",
       "</table>\n",
       "</div>"
      ],
      "text/plain": [
       "   User Code Country   State Name     District Name Gender  \\\n",
       "0          1   India        Delhi  South West Delhi      M   \n",
       "1          2   India  Uttarakhand          Dehradun      T   \n",
       "2          3   India        Delhi       North Delhi      M   \n",
       "3          4   India      Haryana             Hisar      M   \n",
       "4          5   India        Delhi       North Delhi      M   \n",
       "\n",
       "  Time of Registration Date of Registeration  Year  Month  \n",
       "0             18:15:15            2017-03-11  2017      3  \n",
       "1             21:01:32            2017-03-11  2017      3  \n",
       "2             21:55:22            2017-03-11  2017      3  \n",
       "3             22:20:35            2017-03-11  2017      3  \n",
       "4             13:31:47            2017-04-11  2017      4  "
      ]
     },
     "execution_count": 149,
     "metadata": {},
     "output_type": "execute_result"
    }
   ],
   "source": [
    "df.head()"
   ]
  },
  {
   "cell_type": "code",
   "execution_count": null,
   "metadata": {},
   "outputs": [],
   "source": []
  }
 ],
 "metadata": {
  "kernelspec": {
   "display_name": "Python 3",
   "language": "python",
   "name": "python3"
  },
  "language_info": {
   "codemirror_mode": {
    "name": "ipython",
    "version": 3
   },
   "file_extension": ".py",
   "mimetype": "text/x-python",
   "name": "python",
   "nbconvert_exporter": "python",
   "pygments_lexer": "ipython3",
   "version": "3.7.3"
  }
 },
 "nbformat": 4,
 "nbformat_minor": 2
}
